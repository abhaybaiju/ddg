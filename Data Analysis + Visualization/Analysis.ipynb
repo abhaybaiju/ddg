{
 "cells": [
  {
   "cell_type": "code",
   "execution_count": 16,
   "metadata": {
    "collapsed": true,
    "pycharm": {
     "name": "#%%\n"
    }
   },
   "outputs": [],
   "source": [
    "import pandas as pd\n",
    "import time\n",
    "\n",
    "import numpy as np\n",
    "import matplotlib.pyplot as plt\n",
    "\n",
    "import plotly.express as px\n",
    "import plotly.graph_objs as go\n",
    "from plotly.offline import download_plotlyjs, plot, iplot"
   ]
  },
  {
   "cell_type": "code",
   "execution_count": 17,
   "outputs": [
    {
     "data": {
      "text/plain": "       Country          Region  Happiness Rank  Happiness Score  \\\n0  Switzerland  Western Europe               1            7.587   \n1      Iceland  Western Europe               2            7.561   \n2      Denmark  Western Europe               3            7.527   \n3       Norway  Western Europe               4            7.522   \n4       Canada   North America               5            7.427   \n\n   Standard Error  Economy (GDP per Capita)   Family  \\\n0         0.03411                   1.39651  1.34951   \n1         0.04884                   1.30232  1.40223   \n2         0.03328                   1.32548  1.36058   \n3         0.03880                   1.45900  1.33095   \n4         0.03553                   1.32629  1.32261   \n\n   Health (Life Expectancy)  Freedom  Trust (Government Corruption)  \\\n0                   0.94143  0.66557                        0.41978   \n1                   0.94784  0.62877                        0.14145   \n2                   0.87464  0.64938                        0.48357   \n3                   0.88521  0.66973                        0.36503   \n4                   0.90563  0.63297                        0.32957   \n\n   Generosity  Dystopia Residual  \n0     0.29678            2.51738  \n1     0.43630            2.70201  \n2     0.34139            2.49204  \n3     0.34699            2.46531  \n4     0.45811            2.45176  ",
      "text/html": "<div>\n<style scoped>\n    .dataframe tbody tr th:only-of-type {\n        vertical-align: middle;\n    }\n\n    .dataframe tbody tr th {\n        vertical-align: top;\n    }\n\n    .dataframe thead th {\n        text-align: right;\n    }\n</style>\n<table border=\"1\" class=\"dataframe\">\n  <thead>\n    <tr style=\"text-align: right;\">\n      <th></th>\n      <th>Country</th>\n      <th>Region</th>\n      <th>Happiness Rank</th>\n      <th>Happiness Score</th>\n      <th>Standard Error</th>\n      <th>Economy (GDP per Capita)</th>\n      <th>Family</th>\n      <th>Health (Life Expectancy)</th>\n      <th>Freedom</th>\n      <th>Trust (Government Corruption)</th>\n      <th>Generosity</th>\n      <th>Dystopia Residual</th>\n    </tr>\n  </thead>\n  <tbody>\n    <tr>\n      <th>0</th>\n      <td>Switzerland</td>\n      <td>Western Europe</td>\n      <td>1</td>\n      <td>7.587</td>\n      <td>0.03411</td>\n      <td>1.39651</td>\n      <td>1.34951</td>\n      <td>0.94143</td>\n      <td>0.66557</td>\n      <td>0.41978</td>\n      <td>0.29678</td>\n      <td>2.51738</td>\n    </tr>\n    <tr>\n      <th>1</th>\n      <td>Iceland</td>\n      <td>Western Europe</td>\n      <td>2</td>\n      <td>7.561</td>\n      <td>0.04884</td>\n      <td>1.30232</td>\n      <td>1.40223</td>\n      <td>0.94784</td>\n      <td>0.62877</td>\n      <td>0.14145</td>\n      <td>0.43630</td>\n      <td>2.70201</td>\n    </tr>\n    <tr>\n      <th>2</th>\n      <td>Denmark</td>\n      <td>Western Europe</td>\n      <td>3</td>\n      <td>7.527</td>\n      <td>0.03328</td>\n      <td>1.32548</td>\n      <td>1.36058</td>\n      <td>0.87464</td>\n      <td>0.64938</td>\n      <td>0.48357</td>\n      <td>0.34139</td>\n      <td>2.49204</td>\n    </tr>\n    <tr>\n      <th>3</th>\n      <td>Norway</td>\n      <td>Western Europe</td>\n      <td>4</td>\n      <td>7.522</td>\n      <td>0.03880</td>\n      <td>1.45900</td>\n      <td>1.33095</td>\n      <td>0.88521</td>\n      <td>0.66973</td>\n      <td>0.36503</td>\n      <td>0.34699</td>\n      <td>2.46531</td>\n    </tr>\n    <tr>\n      <th>4</th>\n      <td>Canada</td>\n      <td>North America</td>\n      <td>5</td>\n      <td>7.427</td>\n      <td>0.03553</td>\n      <td>1.32629</td>\n      <td>1.32261</td>\n      <td>0.90563</td>\n      <td>0.63297</td>\n      <td>0.32957</td>\n      <td>0.45811</td>\n      <td>2.45176</td>\n    </tr>\n  </tbody>\n</table>\n</div>"
     },
     "execution_count": 17,
     "metadata": {},
     "output_type": "execute_result"
    }
   ],
   "source": [
    "data2015 = pd.read_csv('./datasets/world-happiness/2015.csv')\n",
    "df2015 = pd.DataFrame(data2015)\n",
    "df2015.head()"
   ],
   "metadata": {
    "collapsed": false,
    "pycharm": {
     "name": "#%%\n"
    }
   }
  },
  {
   "cell_type": "code",
   "execution_count": 18,
   "outputs": [
    {
     "data": {
      "text/plain": "       Country          Region  Happiness Rank  Happiness Score  \\\n0      Denmark  Western Europe               1            7.526   \n1  Switzerland  Western Europe               2            7.509   \n2      Iceland  Western Europe               3            7.501   \n3       Norway  Western Europe               4            7.498   \n4      Finland  Western Europe               5            7.413   \n\n   Lower Confidence Interval  Upper Confidence Interval  \\\n0                      7.460                      7.592   \n1                      7.428                      7.590   \n2                      7.333                      7.669   \n3                      7.421                      7.575   \n4                      7.351                      7.475   \n\n   Economy (GDP per Capita)   Family  Health (Life Expectancy)  Freedom  \\\n0                   1.44178  1.16374                   0.79504  0.57941   \n1                   1.52733  1.14524                   0.86303  0.58557   \n2                   1.42666  1.18326                   0.86733  0.56624   \n3                   1.57744  1.12690                   0.79579  0.59609   \n4                   1.40598  1.13464                   0.81091  0.57104   \n\n   Trust (Government Corruption)  Generosity  Dystopia Residual  \n0                        0.44453     0.36171            2.73939  \n1                        0.41203     0.28083            2.69463  \n2                        0.14975     0.47678            2.83137  \n3                        0.35776     0.37895            2.66465  \n4                        0.41004     0.25492            2.82596  ",
      "text/html": "<div>\n<style scoped>\n    .dataframe tbody tr th:only-of-type {\n        vertical-align: middle;\n    }\n\n    .dataframe tbody tr th {\n        vertical-align: top;\n    }\n\n    .dataframe thead th {\n        text-align: right;\n    }\n</style>\n<table border=\"1\" class=\"dataframe\">\n  <thead>\n    <tr style=\"text-align: right;\">\n      <th></th>\n      <th>Country</th>\n      <th>Region</th>\n      <th>Happiness Rank</th>\n      <th>Happiness Score</th>\n      <th>Lower Confidence Interval</th>\n      <th>Upper Confidence Interval</th>\n      <th>Economy (GDP per Capita)</th>\n      <th>Family</th>\n      <th>Health (Life Expectancy)</th>\n      <th>Freedom</th>\n      <th>Trust (Government Corruption)</th>\n      <th>Generosity</th>\n      <th>Dystopia Residual</th>\n    </tr>\n  </thead>\n  <tbody>\n    <tr>\n      <th>0</th>\n      <td>Denmark</td>\n      <td>Western Europe</td>\n      <td>1</td>\n      <td>7.526</td>\n      <td>7.460</td>\n      <td>7.592</td>\n      <td>1.44178</td>\n      <td>1.16374</td>\n      <td>0.79504</td>\n      <td>0.57941</td>\n      <td>0.44453</td>\n      <td>0.36171</td>\n      <td>2.73939</td>\n    </tr>\n    <tr>\n      <th>1</th>\n      <td>Switzerland</td>\n      <td>Western Europe</td>\n      <td>2</td>\n      <td>7.509</td>\n      <td>7.428</td>\n      <td>7.590</td>\n      <td>1.52733</td>\n      <td>1.14524</td>\n      <td>0.86303</td>\n      <td>0.58557</td>\n      <td>0.41203</td>\n      <td>0.28083</td>\n      <td>2.69463</td>\n    </tr>\n    <tr>\n      <th>2</th>\n      <td>Iceland</td>\n      <td>Western Europe</td>\n      <td>3</td>\n      <td>7.501</td>\n      <td>7.333</td>\n      <td>7.669</td>\n      <td>1.42666</td>\n      <td>1.18326</td>\n      <td>0.86733</td>\n      <td>0.56624</td>\n      <td>0.14975</td>\n      <td>0.47678</td>\n      <td>2.83137</td>\n    </tr>\n    <tr>\n      <th>3</th>\n      <td>Norway</td>\n      <td>Western Europe</td>\n      <td>4</td>\n      <td>7.498</td>\n      <td>7.421</td>\n      <td>7.575</td>\n      <td>1.57744</td>\n      <td>1.12690</td>\n      <td>0.79579</td>\n      <td>0.59609</td>\n      <td>0.35776</td>\n      <td>0.37895</td>\n      <td>2.66465</td>\n    </tr>\n    <tr>\n      <th>4</th>\n      <td>Finland</td>\n      <td>Western Europe</td>\n      <td>5</td>\n      <td>7.413</td>\n      <td>7.351</td>\n      <td>7.475</td>\n      <td>1.40598</td>\n      <td>1.13464</td>\n      <td>0.81091</td>\n      <td>0.57104</td>\n      <td>0.41004</td>\n      <td>0.25492</td>\n      <td>2.82596</td>\n    </tr>\n  </tbody>\n</table>\n</div>"
     },
     "execution_count": 18,
     "metadata": {},
     "output_type": "execute_result"
    }
   ],
   "source": [
    "data2016 = pd.read_csv('./datasets/world-happiness/2016.csv')\n",
    "df2016 = pd.DataFrame(data2016)\n",
    "df2016.head()"
   ],
   "metadata": {
    "collapsed": false,
    "pycharm": {
     "name": "#%%\n"
    }
   }
  },
  {
   "cell_type": "code",
   "execution_count": 19,
   "outputs": [
    {
     "data": {
      "text/plain": "       Country  Happiness.Rank  Happiness.Score  Whisker.high  Whisker.low  \\\n0       Norway               1            7.537      7.594445     7.479556   \n1      Denmark               2            7.522      7.581728     7.462272   \n2      Iceland               3            7.504      7.622030     7.385970   \n3  Switzerland               4            7.494      7.561772     7.426227   \n4      Finland               5            7.469      7.527542     7.410458   \n\n   Economy..GDP.per.Capita.    Family  Health..Life.Expectancy.   Freedom  \\\n0                  1.616463  1.533524                  0.796667  0.635423   \n1                  1.482383  1.551122                  0.792566  0.626007   \n2                  1.480633  1.610574                  0.833552  0.627163   \n3                  1.564980  1.516912                  0.858131  0.620071   \n4                  1.443572  1.540247                  0.809158  0.617951   \n\n   Generosity  Trust..Government.Corruption.  Dystopia.Residual  \n0    0.362012                       0.315964           2.277027  \n1    0.355280                       0.400770           2.313707  \n2    0.475540                       0.153527           2.322715  \n3    0.290549                       0.367007           2.276716  \n4    0.245483                       0.382612           2.430182  ",
      "text/html": "<div>\n<style scoped>\n    .dataframe tbody tr th:only-of-type {\n        vertical-align: middle;\n    }\n\n    .dataframe tbody tr th {\n        vertical-align: top;\n    }\n\n    .dataframe thead th {\n        text-align: right;\n    }\n</style>\n<table border=\"1\" class=\"dataframe\">\n  <thead>\n    <tr style=\"text-align: right;\">\n      <th></th>\n      <th>Country</th>\n      <th>Happiness.Rank</th>\n      <th>Happiness.Score</th>\n      <th>Whisker.high</th>\n      <th>Whisker.low</th>\n      <th>Economy..GDP.per.Capita.</th>\n      <th>Family</th>\n      <th>Health..Life.Expectancy.</th>\n      <th>Freedom</th>\n      <th>Generosity</th>\n      <th>Trust..Government.Corruption.</th>\n      <th>Dystopia.Residual</th>\n    </tr>\n  </thead>\n  <tbody>\n    <tr>\n      <th>0</th>\n      <td>Norway</td>\n      <td>1</td>\n      <td>7.537</td>\n      <td>7.594445</td>\n      <td>7.479556</td>\n      <td>1.616463</td>\n      <td>1.533524</td>\n      <td>0.796667</td>\n      <td>0.635423</td>\n      <td>0.362012</td>\n      <td>0.315964</td>\n      <td>2.277027</td>\n    </tr>\n    <tr>\n      <th>1</th>\n      <td>Denmark</td>\n      <td>2</td>\n      <td>7.522</td>\n      <td>7.581728</td>\n      <td>7.462272</td>\n      <td>1.482383</td>\n      <td>1.551122</td>\n      <td>0.792566</td>\n      <td>0.626007</td>\n      <td>0.355280</td>\n      <td>0.400770</td>\n      <td>2.313707</td>\n    </tr>\n    <tr>\n      <th>2</th>\n      <td>Iceland</td>\n      <td>3</td>\n      <td>7.504</td>\n      <td>7.622030</td>\n      <td>7.385970</td>\n      <td>1.480633</td>\n      <td>1.610574</td>\n      <td>0.833552</td>\n      <td>0.627163</td>\n      <td>0.475540</td>\n      <td>0.153527</td>\n      <td>2.322715</td>\n    </tr>\n    <tr>\n      <th>3</th>\n      <td>Switzerland</td>\n      <td>4</td>\n      <td>7.494</td>\n      <td>7.561772</td>\n      <td>7.426227</td>\n      <td>1.564980</td>\n      <td>1.516912</td>\n      <td>0.858131</td>\n      <td>0.620071</td>\n      <td>0.290549</td>\n      <td>0.367007</td>\n      <td>2.276716</td>\n    </tr>\n    <tr>\n      <th>4</th>\n      <td>Finland</td>\n      <td>5</td>\n      <td>7.469</td>\n      <td>7.527542</td>\n      <td>7.410458</td>\n      <td>1.443572</td>\n      <td>1.540247</td>\n      <td>0.809158</td>\n      <td>0.617951</td>\n      <td>0.245483</td>\n      <td>0.382612</td>\n      <td>2.430182</td>\n    </tr>\n  </tbody>\n</table>\n</div>"
     },
     "execution_count": 19,
     "metadata": {},
     "output_type": "execute_result"
    }
   ],
   "source": [
    "data2017 = pd.read_csv('./datasets/world-happiness/2017.csv')\n",
    "df2017 = pd.DataFrame(data2017)\n",
    "df2017.head()"
   ],
   "metadata": {
    "collapsed": false,
    "pycharm": {
     "name": "#%%\n"
    }
   }
  },
  {
   "cell_type": "code",
   "execution_count": 20,
   "outputs": [
    {
     "data": {
      "text/plain": "   Overall rank Country or region  Score  GDP per capita  Social support  \\\n0             1           Finland  7.632           1.305           1.592   \n1             2            Norway  7.594           1.456           1.582   \n2             3           Denmark  7.555           1.351           1.590   \n3             4           Iceland  7.495           1.343           1.644   \n4             5       Switzerland  7.487           1.420           1.549   \n\n   Healthy life expectancy  Freedom to make life choices  Generosity  \\\n0                    0.874                         0.681       0.202   \n1                    0.861                         0.686       0.286   \n2                    0.868                         0.683       0.284   \n3                    0.914                         0.677       0.353   \n4                    0.927                         0.660       0.256   \n\n   Perceptions of corruption  \n0                      0.393  \n1                      0.340  \n2                      0.408  \n3                      0.138  \n4                      0.357  ",
      "text/html": "<div>\n<style scoped>\n    .dataframe tbody tr th:only-of-type {\n        vertical-align: middle;\n    }\n\n    .dataframe tbody tr th {\n        vertical-align: top;\n    }\n\n    .dataframe thead th {\n        text-align: right;\n    }\n</style>\n<table border=\"1\" class=\"dataframe\">\n  <thead>\n    <tr style=\"text-align: right;\">\n      <th></th>\n      <th>Overall rank</th>\n      <th>Country or region</th>\n      <th>Score</th>\n      <th>GDP per capita</th>\n      <th>Social support</th>\n      <th>Healthy life expectancy</th>\n      <th>Freedom to make life choices</th>\n      <th>Generosity</th>\n      <th>Perceptions of corruption</th>\n    </tr>\n  </thead>\n  <tbody>\n    <tr>\n      <th>0</th>\n      <td>1</td>\n      <td>Finland</td>\n      <td>7.632</td>\n      <td>1.305</td>\n      <td>1.592</td>\n      <td>0.874</td>\n      <td>0.681</td>\n      <td>0.202</td>\n      <td>0.393</td>\n    </tr>\n    <tr>\n      <th>1</th>\n      <td>2</td>\n      <td>Norway</td>\n      <td>7.594</td>\n      <td>1.456</td>\n      <td>1.582</td>\n      <td>0.861</td>\n      <td>0.686</td>\n      <td>0.286</td>\n      <td>0.340</td>\n    </tr>\n    <tr>\n      <th>2</th>\n      <td>3</td>\n      <td>Denmark</td>\n      <td>7.555</td>\n      <td>1.351</td>\n      <td>1.590</td>\n      <td>0.868</td>\n      <td>0.683</td>\n      <td>0.284</td>\n      <td>0.408</td>\n    </tr>\n    <tr>\n      <th>3</th>\n      <td>4</td>\n      <td>Iceland</td>\n      <td>7.495</td>\n      <td>1.343</td>\n      <td>1.644</td>\n      <td>0.914</td>\n      <td>0.677</td>\n      <td>0.353</td>\n      <td>0.138</td>\n    </tr>\n    <tr>\n      <th>4</th>\n      <td>5</td>\n      <td>Switzerland</td>\n      <td>7.487</td>\n      <td>1.420</td>\n      <td>1.549</td>\n      <td>0.927</td>\n      <td>0.660</td>\n      <td>0.256</td>\n      <td>0.357</td>\n    </tr>\n  </tbody>\n</table>\n</div>"
     },
     "execution_count": 20,
     "metadata": {},
     "output_type": "execute_result"
    }
   ],
   "source": [
    "data2018 = pd.read_csv('./datasets/world-happiness/2018.csv')\n",
    "df2018 = pd.DataFrame(data2018)\n",
    "df2018.head()"
   ],
   "metadata": {
    "collapsed": false,
    "pycharm": {
     "name": "#%%\n"
    }
   }
  },
  {
   "cell_type": "code",
   "execution_count": 21,
   "outputs": [
    {
     "data": {
      "text/plain": "   Overall rank Country or region  Score  GDP per capita  Social support  \\\n0             1           Finland  7.769           1.340           1.587   \n1             2           Denmark  7.600           1.383           1.573   \n2             3            Norway  7.554           1.488           1.582   \n3             4           Iceland  7.494           1.380           1.624   \n4             5       Netherlands  7.488           1.396           1.522   \n\n   Healthy life expectancy  Freedom to make life choices  Generosity  \\\n0                    0.986                         0.596       0.153   \n1                    0.996                         0.592       0.252   \n2                    1.028                         0.603       0.271   \n3                    1.026                         0.591       0.354   \n4                    0.999                         0.557       0.322   \n\n   Perceptions of corruption  \n0                      0.393  \n1                      0.410  \n2                      0.341  \n3                      0.118  \n4                      0.298  ",
      "text/html": "<div>\n<style scoped>\n    .dataframe tbody tr th:only-of-type {\n        vertical-align: middle;\n    }\n\n    .dataframe tbody tr th {\n        vertical-align: top;\n    }\n\n    .dataframe thead th {\n        text-align: right;\n    }\n</style>\n<table border=\"1\" class=\"dataframe\">\n  <thead>\n    <tr style=\"text-align: right;\">\n      <th></th>\n      <th>Overall rank</th>\n      <th>Country or region</th>\n      <th>Score</th>\n      <th>GDP per capita</th>\n      <th>Social support</th>\n      <th>Healthy life expectancy</th>\n      <th>Freedom to make life choices</th>\n      <th>Generosity</th>\n      <th>Perceptions of corruption</th>\n    </tr>\n  </thead>\n  <tbody>\n    <tr>\n      <th>0</th>\n      <td>1</td>\n      <td>Finland</td>\n      <td>7.769</td>\n      <td>1.340</td>\n      <td>1.587</td>\n      <td>0.986</td>\n      <td>0.596</td>\n      <td>0.153</td>\n      <td>0.393</td>\n    </tr>\n    <tr>\n      <th>1</th>\n      <td>2</td>\n      <td>Denmark</td>\n      <td>7.600</td>\n      <td>1.383</td>\n      <td>1.573</td>\n      <td>0.996</td>\n      <td>0.592</td>\n      <td>0.252</td>\n      <td>0.410</td>\n    </tr>\n    <tr>\n      <th>2</th>\n      <td>3</td>\n      <td>Norway</td>\n      <td>7.554</td>\n      <td>1.488</td>\n      <td>1.582</td>\n      <td>1.028</td>\n      <td>0.603</td>\n      <td>0.271</td>\n      <td>0.341</td>\n    </tr>\n    <tr>\n      <th>3</th>\n      <td>4</td>\n      <td>Iceland</td>\n      <td>7.494</td>\n      <td>1.380</td>\n      <td>1.624</td>\n      <td>1.026</td>\n      <td>0.591</td>\n      <td>0.354</td>\n      <td>0.118</td>\n    </tr>\n    <tr>\n      <th>4</th>\n      <td>5</td>\n      <td>Netherlands</td>\n      <td>7.488</td>\n      <td>1.396</td>\n      <td>1.522</td>\n      <td>0.999</td>\n      <td>0.557</td>\n      <td>0.322</td>\n      <td>0.298</td>\n    </tr>\n  </tbody>\n</table>\n</div>"
     },
     "execution_count": 21,
     "metadata": {},
     "output_type": "execute_result"
    }
   ],
   "source": [
    "data2019 = pd.read_csv('./datasets/world-happiness/2019.csv')\n",
    "df2019 = pd.DataFrame(data2019)\n",
    "df2019.head()\n"
   ],
   "metadata": {
    "collapsed": false,
    "pycharm": {
     "name": "#%%\n"
    }
   }
  },
  {
   "cell_type": "code",
   "execution_count": 31,
   "outputs": [
    {
     "name": "stdout",
     "output_type": "stream",
     "text": [
      "hi\n"
     ]
    }
   ],
   "source": [
    "data = dict(type='choropleth'\n",
    "            , locations = data2017['Country']\n",
    "            , locationmode = 'country names'\n",
    "            , z = data2017['Happiness.Score']\n",
    "            , text = data2017['Country']\n",
    "            , colorbar = {'title': 'Happiness'})\n",
    "\n",
    "layout = dict(title = 'Happiness Index 2017'\n",
    "              , geo = dict(showframe = False\n",
    "                           , projection = {'type': 'mercator'}))\n",
    "\n",
    "choromap2017 = go.Figure(data=[data], layout=layout)\n",
    "choromap2017.update_layout(margin={\"r\":0,\"t\":0,\"l\":0,\"b\":0})\n",
    "print('hi')"
   ],
   "metadata": {
    "collapsed": false,
    "pycharm": {
     "name": "#%%\n"
    }
   }
  },
  {
   "cell_type": "code",
   "execution_count": 23,
   "outputs": [
    {
     "data": {
      "text/plain": "'choromap2017.html'"
     },
     "execution_count": 23,
     "metadata": {},
     "output_type": "execute_result"
    }
   ],
   "source": [
    "plot(choromap2017, filename = 'choromap2017.html', auto_open=False)"
   ],
   "metadata": {
    "collapsed": false,
    "pycharm": {
     "name": "#%%\n"
    }
   }
  },
  {
   "cell_type": "code",
   "execution_count": 40,
   "outputs": [
    {
     "name": "stdout",
     "output_type": "stream",
     "text": [
      "hi\n"
     ]
    }
   ],
   "source": [
    "x = data2019['GDP per capita']\n",
    "y = data2019['Healthy life expectancy'] * 100\n",
    "z = data2019['Perceptions of corruption']\n",
    "\n",
    "graph3d = go.Figure(data=[go.Scatter3d(\n",
    "    x=x\n",
    "    , y=y\n",
    "    , z=z\n",
    "    , mode='markers'\n",
    "    , marker=dict(\n",
    "        size=6\n",
    "        , color=z\n",
    "        , colorscale='Viridis'\n",
    "        , opacity=0.8\n",
    "    )\n",
    ")])\n",
    "\n",
    "graph3d.update_layout(scene=dict(\n",
    "            xaxis_title=\"GDP Per Capita ($100,000s)\"\n",
    "            , yaxis_title=\"Healthy Life Expectancy (Years)\"\n",
    "            , zaxis_title=\"Perceptions of Corruption\"\n",
    "        )\n",
    "    , title=\"GDP vs Life Expectancy vs Corruption\"\n",
    "    , margin=dict(l=0, r=0, b=0, t=0)\n",
    ")\n",
    "print('hi')"
   ],
   "metadata": {
    "collapsed": false,
    "pycharm": {
     "name": "#%%\n"
    }
   }
  },
  {
   "cell_type": "code",
   "execution_count": 30,
   "outputs": [
    {
     "data": {
      "text/plain": "'graph3d.html'"
     },
     "execution_count": 30,
     "metadata": {},
     "output_type": "execute_result"
    }
   ],
   "source": [
    "plot(graph3d, filename = 'graph3d.html', auto_open=False)"
   ],
   "metadata": {
    "collapsed": false,
    "pycharm": {
     "name": "#%%\n"
    }
   }
  },
  {
   "cell_type": "code",
   "execution_count": 45,
   "outputs": [
    {
     "name": "stdout",
     "output_type": "stream",
     "text": [
      "hi\n"
     ]
    }
   ],
   "source": [
    "x = data2019['Freedom to make life choices']\n",
    "y = data2019['Healthy life expectancy'] * 100\n",
    "z = data2019['GDP per capita']\n",
    "\n",
    "graph3d1 = go.Figure(data=[go.Scatter3d(\n",
    "    x=x\n",
    "    , y=y\n",
    "    , z=z\n",
    "    , mode='markers'\n",
    "    , marker=dict(\n",
    "        size=6\n",
    "        , color=z\n",
    "        , colorscale='Viridis'\n",
    "        , opacity=0.8\n",
    "    )\n",
    ")])\n",
    "\n",
    "graph3d1.update_layout(scene=dict(\n",
    "            xaxis_title=\"Freedom to Make Life Choices\"\n",
    "            , yaxis_title=\"Healthy Life Expectancy (Years)\"\n",
    "            , zaxis_title=\"GDP Per Capita ($100,000s)\"\n",
    "        )\n",
    "    , title=\"GDP vs Life Expectancy vs Corruption\"\n",
    "    , margin=dict(l=0, r=0, b=0, t=0)\n",
    ")\n",
    "print('hi')"
   ],
   "metadata": {
    "collapsed": false,
    "pycharm": {
     "name": "#%%\n"
    }
   }
  },
  {
   "cell_type": "code",
   "execution_count": 33,
   "outputs": [
    {
     "data": {
      "text/plain": "'graph3d1.html'"
     },
     "execution_count": 33,
     "metadata": {},
     "output_type": "execute_result"
    }
   ],
   "source": [
    "plot(graph3d1, filename = 'graph3d1.html', auto_open=False)"
   ],
   "metadata": {
    "collapsed": false,
    "pycharm": {
     "name": "#%%\n"
    }
   }
  },
  {
   "cell_type": "code",
   "execution_count": 42,
   "outputs": [
    {
     "data": {
      "text/plain": "'gapminder.html'"
     },
     "execution_count": 42,
     "metadata": {},
     "output_type": "execute_result"
    }
   ],
   "source": [
    "data = px.data.gapminder()\n",
    "gapminder = px.scatter(\n",
    "    data\n",
    "    , x=\"gdpPercap\"\n",
    "    , y=\"lifeExp\"\n",
    "    , animation_frame=\"year\"\n",
    "    , animation_group=\"country\"\n",
    "    , size=\"pop\"\n",
    "    , color=\"continent\"\n",
    "    , hover_name=\"country\"\n",
    "    , log_x=True\n",
    "    , size_max=55\n",
    "    , range_x=[100, 100000]\n",
    "    , range_y=[25, 90]\n",
    ")\n",
    "\n",
    "gapminder.update_layout(\n",
    "    xaxis_title=\"GDP Per Capita ($)\"\n",
    "    , yaxis_title=\"Life Expectancy (Years)\"\n",
    "    , title=\"GDP VS Life Expectancy\"\n",
    "    , margin=dict(l=0, r=0, b=0, t=40)\n",
    ")\n",
    "\n",
    "plot(gapminder, filename = 'gapminder.html', auto_open=False)"
   ],
   "metadata": {
    "collapsed": false,
    "pycharm": {
     "name": "#%%\n"
    }
   }
  },
  {
   "cell_type": "code",
   "execution_count": null,
   "outputs": [],
   "source": [
    "\n"
   ],
   "metadata": {
    "collapsed": false,
    "pycharm": {
     "name": "#%%\n"
    }
   }
  }
 ],
 "metadata": {
  "kernelspec": {
   "name": "deeplearning",
   "language": "python",
   "display_name": "DeepLearning"
  },
  "language_info": {
   "codemirror_mode": {
    "name": "ipython",
    "version": 2
   },
   "file_extension": ".py",
   "mimetype": "text/x-python",
   "name": "python",
   "nbconvert_exporter": "python",
   "pygments_lexer": "ipython2",
   "version": "2.7.6"
  }
 },
 "nbformat": 4,
 "nbformat_minor": 0
}