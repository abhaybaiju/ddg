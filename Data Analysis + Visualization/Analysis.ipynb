{
 "cells": [
  {
   "cell_type": "code",
   "execution_count": 1,
   "metadata": {
    "collapsed": true,
    "pycharm": {
     "name": "#%%\n"
    }
   },
   "outputs": [],
   "source": [
    "import pandas as pd\n",
    "import time\n",
    "\n",
    "import numpy as np\n",
    "import matplotlib.pyplot as plt\n",
    "\n",
    "import plotly.express as px\n",
    "import plotly.graph_objs as go\n",
    "from plotly.offline import download_plotlyjs, plot, iplot"
   ]
  },
  {
   "cell_type": "code",
   "execution_count": 2,
   "outputs": [
    {
     "data": {
      "text/plain": "       Country          Region  Happiness Rank  Happiness Score  \\\n0  Switzerland  Western Europe               1            7.587   \n1      Iceland  Western Europe               2            7.561   \n2      Denmark  Western Europe               3            7.527   \n3       Norway  Western Europe               4            7.522   \n4       Canada   North America               5            7.427   \n\n   Standard Error  Economy (GDP per Capita)   Family  \\\n0         0.03411                   1.39651  1.34951   \n1         0.04884                   1.30232  1.40223   \n2         0.03328                   1.32548  1.36058   \n3         0.03880                   1.45900  1.33095   \n4         0.03553                   1.32629  1.32261   \n\n   Health (Life Expectancy)  Freedom  Trust (Government Corruption)  \\\n0                   0.94143  0.66557                        0.41978   \n1                   0.94784  0.62877                        0.14145   \n2                   0.87464  0.64938                        0.48357   \n3                   0.88521  0.66973                        0.36503   \n4                   0.90563  0.63297                        0.32957   \n\n   Generosity  Dystopia Residual  \n0     0.29678            2.51738  \n1     0.43630            2.70201  \n2     0.34139            2.49204  \n3     0.34699            2.46531  \n4     0.45811            2.45176  ",
      "text/html": "<div>\n<style scoped>\n    .dataframe tbody tr th:only-of-type {\n        vertical-align: middle;\n    }\n\n    .dataframe tbody tr th {\n        vertical-align: top;\n    }\n\n    .dataframe thead th {\n        text-align: right;\n    }\n</style>\n<table border=\"1\" class=\"dataframe\">\n  <thead>\n    <tr style=\"text-align: right;\">\n      <th></th>\n      <th>Country</th>\n      <th>Region</th>\n      <th>Happiness Rank</th>\n      <th>Happiness Score</th>\n      <th>Standard Error</th>\n      <th>Economy (GDP per Capita)</th>\n      <th>Family</th>\n      <th>Health (Life Expectancy)</th>\n      <th>Freedom</th>\n      <th>Trust (Government Corruption)</th>\n      <th>Generosity</th>\n      <th>Dystopia Residual</th>\n    </tr>\n  </thead>\n  <tbody>\n    <tr>\n      <th>0</th>\n      <td>Switzerland</td>\n      <td>Western Europe</td>\n      <td>1</td>\n      <td>7.587</td>\n      <td>0.03411</td>\n      <td>1.39651</td>\n      <td>1.34951</td>\n      <td>0.94143</td>\n      <td>0.66557</td>\n      <td>0.41978</td>\n      <td>0.29678</td>\n      <td>2.51738</td>\n    </tr>\n    <tr>\n      <th>1</th>\n      <td>Iceland</td>\n      <td>Western Europe</td>\n      <td>2</td>\n      <td>7.561</td>\n      <td>0.04884</td>\n      <td>1.30232</td>\n      <td>1.40223</td>\n      <td>0.94784</td>\n      <td>0.62877</td>\n      <td>0.14145</td>\n      <td>0.43630</td>\n      <td>2.70201</td>\n    </tr>\n    <tr>\n      <th>2</th>\n      <td>Denmark</td>\n      <td>Western Europe</td>\n      <td>3</td>\n      <td>7.527</td>\n      <td>0.03328</td>\n      <td>1.32548</td>\n      <td>1.36058</td>\n      <td>0.87464</td>\n      <td>0.64938</td>\n      <td>0.48357</td>\n      <td>0.34139</td>\n      <td>2.49204</td>\n    </tr>\n    <tr>\n      <th>3</th>\n      <td>Norway</td>\n      <td>Western Europe</td>\n      <td>4</td>\n      <td>7.522</td>\n      <td>0.03880</td>\n      <td>1.45900</td>\n      <td>1.33095</td>\n      <td>0.88521</td>\n      <td>0.66973</td>\n      <td>0.36503</td>\n      <td>0.34699</td>\n      <td>2.46531</td>\n    </tr>\n    <tr>\n      <th>4</th>\n      <td>Canada</td>\n      <td>North America</td>\n      <td>5</td>\n      <td>7.427</td>\n      <td>0.03553</td>\n      <td>1.32629</td>\n      <td>1.32261</td>\n      <td>0.90563</td>\n      <td>0.63297</td>\n      <td>0.32957</td>\n      <td>0.45811</td>\n      <td>2.45176</td>\n    </tr>\n  </tbody>\n</table>\n</div>"
     },
     "execution_count": 2,
     "metadata": {},
     "output_type": "execute_result"
    }
   ],
   "source": [
    "data2015 = pd.read_csv('./datasets/world-happiness/2015.csv')\n",
    "df2015 = pd.DataFrame(data2015)\n",
    "df2015.head()"
   ],
   "metadata": {
    "collapsed": false,
    "pycharm": {
     "name": "#%%\n"
    }
   }
  },
  {
   "cell_type": "code",
   "execution_count": 3,
   "outputs": [
    {
     "data": {
      "text/plain": "       Country          Region  Happiness Rank  Happiness Score  \\\n0      Denmark  Western Europe               1            7.526   \n1  Switzerland  Western Europe               2            7.509   \n2      Iceland  Western Europe               3            7.501   \n3       Norway  Western Europe               4            7.498   \n4      Finland  Western Europe               5            7.413   \n\n   Lower Confidence Interval  Upper Confidence Interval  \\\n0                      7.460                      7.592   \n1                      7.428                      7.590   \n2                      7.333                      7.669   \n3                      7.421                      7.575   \n4                      7.351                      7.475   \n\n   Economy (GDP per Capita)   Family  Health (Life Expectancy)  Freedom  \\\n0                   1.44178  1.16374                   0.79504  0.57941   \n1                   1.52733  1.14524                   0.86303  0.58557   \n2                   1.42666  1.18326                   0.86733  0.56624   \n3                   1.57744  1.12690                   0.79579  0.59609   \n4                   1.40598  1.13464                   0.81091  0.57104   \n\n   Trust (Government Corruption)  Generosity  Dystopia Residual  \n0                        0.44453     0.36171            2.73939  \n1                        0.41203     0.28083            2.69463  \n2                        0.14975     0.47678            2.83137  \n3                        0.35776     0.37895            2.66465  \n4                        0.41004     0.25492            2.82596  ",
      "text/html": "<div>\n<style scoped>\n    .dataframe tbody tr th:only-of-type {\n        vertical-align: middle;\n    }\n\n    .dataframe tbody tr th {\n        vertical-align: top;\n    }\n\n    .dataframe thead th {\n        text-align: right;\n    }\n</style>\n<table border=\"1\" class=\"dataframe\">\n  <thead>\n    <tr style=\"text-align: right;\">\n      <th></th>\n      <th>Country</th>\n      <th>Region</th>\n      <th>Happiness Rank</th>\n      <th>Happiness Score</th>\n      <th>Lower Confidence Interval</th>\n      <th>Upper Confidence Interval</th>\n      <th>Economy (GDP per Capita)</th>\n      <th>Family</th>\n      <th>Health (Life Expectancy)</th>\n      <th>Freedom</th>\n      <th>Trust (Government Corruption)</th>\n      <th>Generosity</th>\n      <th>Dystopia Residual</th>\n    </tr>\n  </thead>\n  <tbody>\n    <tr>\n      <th>0</th>\n      <td>Denmark</td>\n      <td>Western Europe</td>\n      <td>1</td>\n      <td>7.526</td>\n      <td>7.460</td>\n      <td>7.592</td>\n      <td>1.44178</td>\n      <td>1.16374</td>\n      <td>0.79504</td>\n      <td>0.57941</td>\n      <td>0.44453</td>\n      <td>0.36171</td>\n      <td>2.73939</td>\n    </tr>\n    <tr>\n      <th>1</th>\n      <td>Switzerland</td>\n      <td>Western Europe</td>\n      <td>2</td>\n      <td>7.509</td>\n      <td>7.428</td>\n      <td>7.590</td>\n      <td>1.52733</td>\n      <td>1.14524</td>\n      <td>0.86303</td>\n      <td>0.58557</td>\n      <td>0.41203</td>\n      <td>0.28083</td>\n      <td>2.69463</td>\n    </tr>\n    <tr>\n      <th>2</th>\n      <td>Iceland</td>\n      <td>Western Europe</td>\n      <td>3</td>\n      <td>7.501</td>\n      <td>7.333</td>\n      <td>7.669</td>\n      <td>1.42666</td>\n      <td>1.18326</td>\n      <td>0.86733</td>\n      <td>0.56624</td>\n      <td>0.14975</td>\n      <td>0.47678</td>\n      <td>2.83137</td>\n    </tr>\n    <tr>\n      <th>3</th>\n      <td>Norway</td>\n      <td>Western Europe</td>\n      <td>4</td>\n      <td>7.498</td>\n      <td>7.421</td>\n      <td>7.575</td>\n      <td>1.57744</td>\n      <td>1.12690</td>\n      <td>0.79579</td>\n      <td>0.59609</td>\n      <td>0.35776</td>\n      <td>0.37895</td>\n      <td>2.66465</td>\n    </tr>\n    <tr>\n      <th>4</th>\n      <td>Finland</td>\n      <td>Western Europe</td>\n      <td>5</td>\n      <td>7.413</td>\n      <td>7.351</td>\n      <td>7.475</td>\n      <td>1.40598</td>\n      <td>1.13464</td>\n      <td>0.81091</td>\n      <td>0.57104</td>\n      <td>0.41004</td>\n      <td>0.25492</td>\n      <td>2.82596</td>\n    </tr>\n  </tbody>\n</table>\n</div>"
     },
     "execution_count": 3,
     "metadata": {},
     "output_type": "execute_result"
    }
   ],
   "source": [
    "data2016 = pd.read_csv('./datasets/world-happiness/2016.csv')\n",
    "df2016 = pd.DataFrame(data2016)\n",
    "df2016.head()"
   ],
   "metadata": {
    "collapsed": false,
    "pycharm": {
     "name": "#%%\n"
    }
   }
  },
  {
   "cell_type": "code",
   "execution_count": 4,
   "outputs": [
    {
     "data": {
      "text/plain": "       Country  Happiness.Rank  Happiness.Score  Whisker.high  Whisker.low  \\\n0       Norway               1            7.537      7.594445     7.479556   \n1      Denmark               2            7.522      7.581728     7.462272   \n2      Iceland               3            7.504      7.622030     7.385970   \n3  Switzerland               4            7.494      7.561772     7.426227   \n4      Finland               5            7.469      7.527542     7.410458   \n\n   Economy..GDP.per.Capita.    Family  Health..Life.Expectancy.   Freedom  \\\n0                  1.616463  1.533524                  0.796667  0.635423   \n1                  1.482383  1.551122                  0.792566  0.626007   \n2                  1.480633  1.610574                  0.833552  0.627163   \n3                  1.564980  1.516912                  0.858131  0.620071   \n4                  1.443572  1.540247                  0.809158  0.617951   \n\n   Generosity  Trust..Government.Corruption.  Dystopia.Residual  \n0    0.362012                       0.315964           2.277027  \n1    0.355280                       0.400770           2.313707  \n2    0.475540                       0.153527           2.322715  \n3    0.290549                       0.367007           2.276716  \n4    0.245483                       0.382612           2.430182  ",
      "text/html": "<div>\n<style scoped>\n    .dataframe tbody tr th:only-of-type {\n        vertical-align: middle;\n    }\n\n    .dataframe tbody tr th {\n        vertical-align: top;\n    }\n\n    .dataframe thead th {\n        text-align: right;\n    }\n</style>\n<table border=\"1\" class=\"dataframe\">\n  <thead>\n    <tr style=\"text-align: right;\">\n      <th></th>\n      <th>Country</th>\n      <th>Happiness.Rank</th>\n      <th>Happiness.Score</th>\n      <th>Whisker.high</th>\n      <th>Whisker.low</th>\n      <th>Economy..GDP.per.Capita.</th>\n      <th>Family</th>\n      <th>Health..Life.Expectancy.</th>\n      <th>Freedom</th>\n      <th>Generosity</th>\n      <th>Trust..Government.Corruption.</th>\n      <th>Dystopia.Residual</th>\n    </tr>\n  </thead>\n  <tbody>\n    <tr>\n      <th>0</th>\n      <td>Norway</td>\n      <td>1</td>\n      <td>7.537</td>\n      <td>7.594445</td>\n      <td>7.479556</td>\n      <td>1.616463</td>\n      <td>1.533524</td>\n      <td>0.796667</td>\n      <td>0.635423</td>\n      <td>0.362012</td>\n      <td>0.315964</td>\n      <td>2.277027</td>\n    </tr>\n    <tr>\n      <th>1</th>\n      <td>Denmark</td>\n      <td>2</td>\n      <td>7.522</td>\n      <td>7.581728</td>\n      <td>7.462272</td>\n      <td>1.482383</td>\n      <td>1.551122</td>\n      <td>0.792566</td>\n      <td>0.626007</td>\n      <td>0.355280</td>\n      <td>0.400770</td>\n      <td>2.313707</td>\n    </tr>\n    <tr>\n      <th>2</th>\n      <td>Iceland</td>\n      <td>3</td>\n      <td>7.504</td>\n      <td>7.622030</td>\n      <td>7.385970</td>\n      <td>1.480633</td>\n      <td>1.610574</td>\n      <td>0.833552</td>\n      <td>0.627163</td>\n      <td>0.475540</td>\n      <td>0.153527</td>\n      <td>2.322715</td>\n    </tr>\n    <tr>\n      <th>3</th>\n      <td>Switzerland</td>\n      <td>4</td>\n      <td>7.494</td>\n      <td>7.561772</td>\n      <td>7.426227</td>\n      <td>1.564980</td>\n      <td>1.516912</td>\n      <td>0.858131</td>\n      <td>0.620071</td>\n      <td>0.290549</td>\n      <td>0.367007</td>\n      <td>2.276716</td>\n    </tr>\n    <tr>\n      <th>4</th>\n      <td>Finland</td>\n      <td>5</td>\n      <td>7.469</td>\n      <td>7.527542</td>\n      <td>7.410458</td>\n      <td>1.443572</td>\n      <td>1.540247</td>\n      <td>0.809158</td>\n      <td>0.617951</td>\n      <td>0.245483</td>\n      <td>0.382612</td>\n      <td>2.430182</td>\n    </tr>\n  </tbody>\n</table>\n</div>"
     },
     "execution_count": 4,
     "metadata": {},
     "output_type": "execute_result"
    }
   ],
   "source": [
    "data2017 = pd.read_csv('./datasets/world-happiness/2017.csv')\n",
    "df2017 = pd.DataFrame(data2017)\n",
    "df2017.head()"
   ],
   "metadata": {
    "collapsed": false,
    "pycharm": {
     "name": "#%%\n"
    }
   }
  },
  {
   "cell_type": "code",
   "execution_count": 5,
   "outputs": [
    {
     "data": {
      "text/plain": "   Overall rank Country or region  Score  GDP per capita  Social support  \\\n0             1           Finland  7.632           1.305           1.592   \n1             2            Norway  7.594           1.456           1.582   \n2             3           Denmark  7.555           1.351           1.590   \n3             4           Iceland  7.495           1.343           1.644   \n4             5       Switzerland  7.487           1.420           1.549   \n\n   Healthy life expectancy  Freedom to make life choices  Generosity  \\\n0                    0.874                         0.681       0.202   \n1                    0.861                         0.686       0.286   \n2                    0.868                         0.683       0.284   \n3                    0.914                         0.677       0.353   \n4                    0.927                         0.660       0.256   \n\n   Perceptions of corruption  \n0                      0.393  \n1                      0.340  \n2                      0.408  \n3                      0.138  \n4                      0.357  ",
      "text/html": "<div>\n<style scoped>\n    .dataframe tbody tr th:only-of-type {\n        vertical-align: middle;\n    }\n\n    .dataframe tbody tr th {\n        vertical-align: top;\n    }\n\n    .dataframe thead th {\n        text-align: right;\n    }\n</style>\n<table border=\"1\" class=\"dataframe\">\n  <thead>\n    <tr style=\"text-align: right;\">\n      <th></th>\n      <th>Overall rank</th>\n      <th>Country or region</th>\n      <th>Score</th>\n      <th>GDP per capita</th>\n      <th>Social support</th>\n      <th>Healthy life expectancy</th>\n      <th>Freedom to make life choices</th>\n      <th>Generosity</th>\n      <th>Perceptions of corruption</th>\n    </tr>\n  </thead>\n  <tbody>\n    <tr>\n      <th>0</th>\n      <td>1</td>\n      <td>Finland</td>\n      <td>7.632</td>\n      <td>1.305</td>\n      <td>1.592</td>\n      <td>0.874</td>\n      <td>0.681</td>\n      <td>0.202</td>\n      <td>0.393</td>\n    </tr>\n    <tr>\n      <th>1</th>\n      <td>2</td>\n      <td>Norway</td>\n      <td>7.594</td>\n      <td>1.456</td>\n      <td>1.582</td>\n      <td>0.861</td>\n      <td>0.686</td>\n      <td>0.286</td>\n      <td>0.340</td>\n    </tr>\n    <tr>\n      <th>2</th>\n      <td>3</td>\n      <td>Denmark</td>\n      <td>7.555</td>\n      <td>1.351</td>\n      <td>1.590</td>\n      <td>0.868</td>\n      <td>0.683</td>\n      <td>0.284</td>\n      <td>0.408</td>\n    </tr>\n    <tr>\n      <th>3</th>\n      <td>4</td>\n      <td>Iceland</td>\n      <td>7.495</td>\n      <td>1.343</td>\n      <td>1.644</td>\n      <td>0.914</td>\n      <td>0.677</td>\n      <td>0.353</td>\n      <td>0.138</td>\n    </tr>\n    <tr>\n      <th>4</th>\n      <td>5</td>\n      <td>Switzerland</td>\n      <td>7.487</td>\n      <td>1.420</td>\n      <td>1.549</td>\n      <td>0.927</td>\n      <td>0.660</td>\n      <td>0.256</td>\n      <td>0.357</td>\n    </tr>\n  </tbody>\n</table>\n</div>"
     },
     "execution_count": 5,
     "metadata": {},
     "output_type": "execute_result"
    }
   ],
   "source": [
    "data2018 = pd.read_csv('./datasets/world-happiness/2018.csv')\n",
    "df2018 = pd.DataFrame(data2018)\n",
    "df2018.head()"
   ],
   "metadata": {
    "collapsed": false,
    "pycharm": {
     "name": "#%%\n"
    }
   }
  },
  {
   "cell_type": "code",
   "execution_count": 6,
   "outputs": [
    {
     "data": {
      "text/plain": "   Overall rank Country or region  Score  GDP per capita  Social support  \\\n0             1           Finland  7.769           1.340           1.587   \n1             2           Denmark  7.600           1.383           1.573   \n2             3            Norway  7.554           1.488           1.582   \n3             4           Iceland  7.494           1.380           1.624   \n4             5       Netherlands  7.488           1.396           1.522   \n\n   Healthy life expectancy  Freedom to make life choices  Generosity  \\\n0                    0.986                         0.596       0.153   \n1                    0.996                         0.592       0.252   \n2                    1.028                         0.603       0.271   \n3                    1.026                         0.591       0.354   \n4                    0.999                         0.557       0.322   \n\n   Perceptions of corruption  \n0                      0.393  \n1                      0.410  \n2                      0.341  \n3                      0.118  \n4                      0.298  ",
      "text/html": "<div>\n<style scoped>\n    .dataframe tbody tr th:only-of-type {\n        vertical-align: middle;\n    }\n\n    .dataframe tbody tr th {\n        vertical-align: top;\n    }\n\n    .dataframe thead th {\n        text-align: right;\n    }\n</style>\n<table border=\"1\" class=\"dataframe\">\n  <thead>\n    <tr style=\"text-align: right;\">\n      <th></th>\n      <th>Overall rank</th>\n      <th>Country or region</th>\n      <th>Score</th>\n      <th>GDP per capita</th>\n      <th>Social support</th>\n      <th>Healthy life expectancy</th>\n      <th>Freedom to make life choices</th>\n      <th>Generosity</th>\n      <th>Perceptions of corruption</th>\n    </tr>\n  </thead>\n  <tbody>\n    <tr>\n      <th>0</th>\n      <td>1</td>\n      <td>Finland</td>\n      <td>7.769</td>\n      <td>1.340</td>\n      <td>1.587</td>\n      <td>0.986</td>\n      <td>0.596</td>\n      <td>0.153</td>\n      <td>0.393</td>\n    </tr>\n    <tr>\n      <th>1</th>\n      <td>2</td>\n      <td>Denmark</td>\n      <td>7.600</td>\n      <td>1.383</td>\n      <td>1.573</td>\n      <td>0.996</td>\n      <td>0.592</td>\n      <td>0.252</td>\n      <td>0.410</td>\n    </tr>\n    <tr>\n      <th>2</th>\n      <td>3</td>\n      <td>Norway</td>\n      <td>7.554</td>\n      <td>1.488</td>\n      <td>1.582</td>\n      <td>1.028</td>\n      <td>0.603</td>\n      <td>0.271</td>\n      <td>0.341</td>\n    </tr>\n    <tr>\n      <th>3</th>\n      <td>4</td>\n      <td>Iceland</td>\n      <td>7.494</td>\n      <td>1.380</td>\n      <td>1.624</td>\n      <td>1.026</td>\n      <td>0.591</td>\n      <td>0.354</td>\n      <td>0.118</td>\n    </tr>\n    <tr>\n      <th>4</th>\n      <td>5</td>\n      <td>Netherlands</td>\n      <td>7.488</td>\n      <td>1.396</td>\n      <td>1.522</td>\n      <td>0.999</td>\n      <td>0.557</td>\n      <td>0.322</td>\n      <td>0.298</td>\n    </tr>\n  </tbody>\n</table>\n</div>"
     },
     "execution_count": 6,
     "metadata": {},
     "output_type": "execute_result"
    }
   ],
   "source": [
    "data2019 = pd.read_csv('./datasets/world-happiness/2019.csv')\n",
    "df2019 = pd.DataFrame(data2019)\n",
    "df2019.head()\n"
   ],
   "metadata": {
    "collapsed": false,
    "pycharm": {
     "name": "#%%\n"
    }
   }
  },
  {
   "cell_type": "code",
   "execution_count": 31,
   "outputs": [
    {
     "name": "stdout",
     "output_type": "stream",
     "text": [
      "hi\n"
     ]
    }
   ],
   "source": [
    "data = dict(type='choropleth'\n",
    "            , locations = data2017['Country']\n",
    "            , locationmode = 'country names'\n",
    "            , z = data2017['Happiness.Score']\n",
    "            , text = data2017['Country']\n",
    "            , colorbar = {'title': 'Happiness'})\n",
    "\n",
    "layout = dict(title = 'Happiness Index 2017'\n",
    "              , geo = dict(showframe = False\n",
    "                           , projection = {'type': 'mercator'}))\n",
    "\n",
    "choromap2017 = go.Figure(data=[data], layout=layout)\n",
    "choromap2017.update_layout(margin={\"r\":0,\"t\":0,\"l\":0,\"b\":0})\n",
    "print('hi')"
   ],
   "metadata": {
    "collapsed": false,
    "pycharm": {
     "name": "#%%\n"
    }
   }
  },
  {
   "cell_type": "code",
   "execution_count": 23,
   "outputs": [
    {
     "data": {
      "text/plain": "'choromap2017.html'"
     },
     "execution_count": 23,
     "metadata": {},
     "output_type": "execute_result"
    }
   ],
   "source": [
    "plot(choromap2017, filename = 'choromap2017.html', auto_open=False)"
   ],
   "metadata": {
    "collapsed": false,
    "pycharm": {
     "name": "#%%\n"
    }
   }
  },
  {
   "cell_type": "code",
   "execution_count": 40,
   "outputs": [
    {
     "name": "stdout",
     "output_type": "stream",
     "text": [
      "hi\n"
     ]
    }
   ],
   "source": [
    "x = data2019['GDP per capita']\n",
    "y = data2019['Healthy life expectancy'] * 100\n",
    "z = data2019['Perceptions of corruption']\n",
    "\n",
    "graph3d = go.Figure(data=[go.Scatter3d(\n",
    "    x=x\n",
    "    , y=y\n",
    "    , z=z\n",
    "    , mode='markers'\n",
    "    , marker=dict(\n",
    "        size=6\n",
    "        , color=z\n",
    "        , colorscale='Viridis'\n",
    "        , opacity=0.8\n",
    "    )\n",
    ")])\n",
    "\n",
    "graph3d.update_layout(scene=dict(\n",
    "            xaxis_title=\"GDP Per Capita ($100,000s)\"\n",
    "            , yaxis_title=\"Healthy Life Expectancy (Years)\"\n",
    "            , zaxis_title=\"Perceptions of Corruption\"\n",
    "        )\n",
    "    , title=\"GDP vs Life Expectancy vs Corruption\"\n",
    "    , margin=dict(l=0, r=0, b=0, t=0)\n",
    ")\n",
    "print('hi')"
   ],
   "metadata": {
    "collapsed": false,
    "pycharm": {
     "name": "#%%\n"
    }
   }
  },
  {
   "cell_type": "code",
   "execution_count": 30,
   "outputs": [
    {
     "data": {
      "text/plain": "'graph3d.html'"
     },
     "execution_count": 30,
     "metadata": {},
     "output_type": "execute_result"
    }
   ],
   "source": [
    "plot(graph3d, filename = 'graph3d.html', auto_open=False)"
   ],
   "metadata": {
    "collapsed": false,
    "pycharm": {
     "name": "#%%\n"
    }
   }
  },
  {
   "cell_type": "code",
   "execution_count": 45,
   "outputs": [
    {
     "name": "stdout",
     "output_type": "stream",
     "text": [
      "hi\n"
     ]
    }
   ],
   "source": [
    "x = data2019['Freedom to make life choices']\n",
    "y = data2019['Healthy life expectancy'] * 100\n",
    "z = data2019['GDP per capita']\n",
    "\n",
    "graph3d1 = go.Figure(data=[go.Scatter3d(\n",
    "    x=x\n",
    "    , y=y\n",
    "    , z=z\n",
    "    , mode='markers'\n",
    "    , marker=dict(\n",
    "        size=6\n",
    "        , color=z\n",
    "        , colorscale='Viridis'\n",
    "        , opacity=0.8\n",
    "    )\n",
    ")])\n",
    "\n",
    "graph3d1.update_layout(scene=dict(\n",
    "            xaxis_title=\"Freedom to Make Life Choices\"\n",
    "            , yaxis_title=\"Healthy Life Expectancy (Years)\"\n",
    "            , zaxis_title=\"GDP Per Capita ($100,000s)\"\n",
    "        )\n",
    "    , title=\"GDP vs Life Expectancy vs Corruption\"\n",
    "    , margin=dict(l=0, r=0, b=0, t=0)\n",
    ")\n",
    "print('hi')"
   ],
   "metadata": {
    "collapsed": false,
    "pycharm": {
     "name": "#%%\n"
    }
   }
  },
  {
   "cell_type": "code",
   "execution_count": 33,
   "outputs": [
    {
     "data": {
      "text/plain": "'graph3d1.html'"
     },
     "execution_count": 33,
     "metadata": {},
     "output_type": "execute_result"
    }
   ],
   "source": [
    "plot(graph3d1, filename = 'graph3d1.html', auto_open=False)"
   ],
   "metadata": {
    "collapsed": false,
    "pycharm": {
     "name": "#%%\n"
    }
   }
  },
  {
   "cell_type": "code",
   "execution_count": 42,
   "outputs": [
    {
     "data": {
      "text/plain": "'gapminder.html'"
     },
     "execution_count": 42,
     "metadata": {},
     "output_type": "execute_result"
    }
   ],
   "source": [
    "data = px.data.gapminder()\n",
    "gapminder = px.scatter(\n",
    "    data\n",
    "    , x=\"gdpPercap\"\n",
    "    , y=\"lifeExp\"\n",
    "    , animation_frame=\"year\"\n",
    "    , animation_group=\"country\"\n",
    "    , size=\"pop\"\n",
    "    , color=\"continent\"\n",
    "    , hover_name=\"country\"\n",
    "    , log_x=True\n",
    "    , size_max=55\n",
    "    , range_x=[100, 100000]\n",
    "    , range_y=[25, 90]\n",
    ")\n",
    "\n",
    "gapminder.update_layout(\n",
    "    xaxis_title=\"GDP Per Capita ($)\"\n",
    "    , yaxis_title=\"Life Expectancy (Years)\"\n",
    "    , title=\"GDP VS Life Expectancy\"\n",
    "    , margin=dict(l=0, r=0, b=0, t=40)\n",
    ")\n",
    "\n",
    "plot(gapminder, filename = 'gapminder.html', auto_open=False)"
   ],
   "metadata": {
    "collapsed": false,
    "pycharm": {
     "name": "#%%\n"
    }
   }
  },
  {
   "cell_type": "code",
   "execution_count": 10,
   "outputs": [
    {
     "data": {
      "application/vnd.plotly.v1+json": {
       "config": {
        "plotlyServerURL": "https://plot.ly"
       },
       "data": [
        {
         "hovertext": [
          "Finland",
          "Denmark",
          "Norway",
          "Iceland",
          "Netherlands",
          "Switzerland",
          "Sweden",
          "New Zealand",
          "Canada",
          "Austria",
          "Australia",
          "Costa Rica",
          "Israel",
          "Luxembourg",
          "United Kingdom",
          "Ireland",
          "Germany",
          "Belgium",
          "United States",
          "Czech Republic",
          "United Arab Emirates",
          "Malta",
          "Mexico",
          "France",
          "Taiwan",
          "Chile",
          "Guatemala",
          "Saudi Arabia",
          "Qatar",
          "Spain",
          "Panama",
          "Brazil",
          "Uruguay",
          "Singapore",
          "El Salvador",
          "Italy",
          "Bahrain",
          "Slovakia",
          "Trinidad & Tobago",
          "Poland",
          "Uzbekistan",
          "Lithuania",
          "Colombia",
          "Slovenia",
          "Nicaragua",
          "Kosovo",
          "Argentina",
          "Romania",
          "Cyprus",
          "Ecuador",
          "Kuwait",
          "Thailand",
          "Latvia",
          "South Korea",
          "Estonia",
          "Jamaica",
          "Mauritius",
          "Japan",
          "Honduras",
          "Kazakhstan",
          "Bolivia",
          "Hungary",
          "Paraguay",
          "Northern Cyprus",
          "Peru",
          "Portugal",
          "Pakistan",
          "Russia",
          "Philippines",
          "Serbia",
          "Moldova",
          "Libya",
          "Montenegro",
          "Tajikistan",
          "Croatia",
          "Hong Kong",
          "Dominican Republic",
          "Bosnia and Herzegovina",
          "Turkey",
          "Malaysia",
          "Belarus",
          "Greece",
          "Mongolia",
          "North Macedonia",
          "Nigeria",
          "Kyrgyzstan",
          "Turkmenistan",
          "Algeria",
          "Morocco",
          "Azerbaijan",
          "Lebanon",
          "Indonesia",
          "China",
          "Vietnam",
          "Bhutan",
          "Cameroon",
          "Bulgaria",
          "Ghana",
          "Ivory Coast",
          "Nepal",
          "Jordan",
          "Benin",
          "Congo (Brazzaville)",
          "Gabon",
          "Laos",
          "South Africa",
          "Albania",
          "Venezuela",
          "Cambodia",
          "Palestinian Territories",
          "Senegal",
          "Somalia",
          "Namibia",
          "Niger",
          "Burkina Faso",
          "Armenia",
          "Iran",
          "Guinea",
          "Georgia",
          "Gambia",
          "Kenya",
          "Mauritania",
          "Mozambique",
          "Tunisia",
          "Bangladesh",
          "Iraq",
          "Congo (Kinshasa)",
          "Mali",
          "Sierra Leone",
          "Sri Lanka",
          "Myanmar",
          "Chad",
          "Ukraine",
          "Ethiopia",
          "Swaziland",
          "Uganda",
          "Egypt",
          "Zambia",
          "Togo",
          "India",
          "Liberia",
          "Comoros",
          "Madagascar",
          "Lesotho",
          "Burundi",
          "Zimbabwe",
          "Haiti",
          "Botswana",
          "Syria",
          "Malawi",
          "Yemen",
          "Rwanda",
          "Tanzania",
          "Afghanistan",
          "Central African Republic",
          "South Sudan"
         ],
         "marker": {
          "color": [
           7.769,
           7.6,
           7.553999999999999,
           7.494,
           7.4879999999999995,
           7.48,
           7.343,
           7.307,
           7.278,
           7.246,
           7.228,
           7.167000000000001,
           7.138999999999999,
           7.09,
           7.053999999999999,
           7.021,
           6.985,
           6.922999999999999,
           6.892,
           6.852,
           6.825,
           6.726,
           6.595,
           6.5920000000000005,
           6.446000000000001,
           6.444,
           6.436,
           6.375,
           6.374,
           6.354,
           6.321000000000001,
           6.3,
           6.292999999999999,
           6.2620000000000005,
           6.252999999999999,
           6.223,
           6.199,
           6.1979999999999995,
           6.192,
           6.182,
           6.1739999999999995,
           6.149,
           6.125,
           6.117999999999999,
           6.105,
           6.1,
           6.086,
           6.07,
           6.046,
           6.028,
           6.021,
           6.007999999999999,
           5.94,
           5.895,
           5.893,
           5.89,
           5.888,
           5.886,
           5.86,
           5.809,
           5.779,
           5.757999999999999,
           5.742999999999999,
           5.718,
           5.697,
           5.693,
           5.653,
           5.648,
           5.631,
           5.603,
           5.529,
           5.525,
           5.523,
           5.4670000000000005,
           5.432,
           5.43,
           5.425,
           5.386,
           5.372999999999999,
           5.3389999999999995,
           5.3229999999999995,
           5.287000000000001,
           5.285,
           5.274,
           5.265,
           5.261,
           5.247000000000001,
           5.211,
           5.207999999999999,
           5.207999999999999,
           5.197,
           5.192,
           5.191,
           5.175,
           5.082,
           5.044,
           5.011,
           4.996,
           4.944,
           4.913,
           4.906000000000001,
           4.883,
           4.812,
           4.7989999999999995,
           4.796,
           4.7219999999999995,
           4.718999999999999,
           4.707,
           4.7,
           4.696000000000001,
           4.681,
           4.668,
           4.638999999999999,
           4.628,
           4.587,
           4.559,
           4.548,
           4.534,
           4.519,
           4.516,
           4.5089999999999995,
           4.49,
           4.466,
           4.461,
           4.456,
           4.437,
           4.418,
           4.39,
           4.374,
           4.3660000000000005,
           4.36,
           4.35,
           4.332,
           4.2860000000000005,
           4.212,
           4.189,
           4.166,
           4.107,
           4.085,
           4.015,
           3.975,
           3.9730000000000003,
           3.9330000000000003,
           3.802,
           3.775,
           3.6630000000000003,
           3.597,
           3.488,
           3.4619999999999997,
           3.41,
           3.38,
           3.3339999999999996,
           3.2310000000000003,
           3.2030000000000003,
           3.083,
           2.853
          ],
          "size": [
           23.307000000000002,
           22.799999999999997,
           22.662,
           22.482,
           22.464,
           22.44,
           22.029,
           21.921,
           21.834,
           21.738,
           21.683999999999997,
           21.501,
           21.416999999999998,
           21.27,
           21.162,
           21.063,
           20.955000000000002,
           20.769,
           20.676000000000002,
           20.556,
           20.475,
           20.178,
           19.785,
           19.776000000000003,
           19.338,
           19.332,
           19.308,
           19.125,
           19.122,
           19.062,
           18.963,
           18.9,
           18.878999999999998,
           18.786,
           18.758999999999997,
           18.669,
           18.597,
           18.593999999999998,
           18.576,
           18.546,
           18.522,
           18.447,
           18.375,
           18.354,
           18.315,
           18.299999999999997,
           18.258000000000003,
           18.21,
           18.138,
           18.084,
           18.063,
           18.023999999999997,
           17.82,
           17.685,
           17.679,
           17.669999999999998,
           17.664,
           17.658,
           17.580000000000002,
           17.427,
           17.337,
           17.273999999999997,
           17.229,
           17.154,
           17.091,
           17.079,
           16.959,
           16.944,
           16.893,
           16.808999999999997,
           16.587,
           16.575000000000003,
           16.569,
           16.401000000000003,
           16.296,
           16.29,
           16.275,
           16.158,
           16.119,
           16.017,
           15.968999999999998,
           15.861000000000002,
           15.855,
           15.822,
           15.794999999999998,
           15.783000000000001,
           15.741000000000003,
           15.633000000000001,
           15.623999999999999,
           15.623999999999999,
           15.591000000000001,
           15.576,
           15.573,
           15.524999999999999,
           15.245999999999999,
           15.131999999999998,
           15.033000000000001,
           14.988000000000001,
           14.832,
           14.739,
           14.718000000000002,
           14.649000000000001,
           14.436,
           14.396999999999998,
           14.388000000000002,
           14.165999999999999,
           14.156999999999998,
           14.120999999999999,
           14.100000000000001,
           14.088000000000001,
           14.043,
           14.004000000000001,
           13.916999999999998,
           13.884,
           13.761,
           13.677,
           13.644,
           13.602,
           13.557,
           13.548,
           13.526999999999997,
           13.47,
           13.398,
           13.383000000000001,
           13.368000000000002,
           13.311,
           13.254000000000001,
           13.169999999999998,
           13.122,
           13.098000000000003,
           13.080000000000002,
           13.049999999999999,
           12.995999999999999,
           12.858,
           12.636,
           12.567,
           12.498000000000001,
           12.321000000000002,
           12.254999999999999,
           12.044999999999998,
           11.925,
           11.919,
           11.799000000000001,
           11.406,
           11.325,
           10.989,
           10.791,
           10.464,
           10.386,
           10.23,
           10.14,
           10.001999999999999,
           9.693000000000001,
           9.609000000000002,
           9.249,
           8.559000000000001
          ]
         },
         "mode": "markers",
         "type": "scatter",
         "x": [
          1.34,
          1.383,
          1.4880000000000002,
          1.38,
          1.396,
          1.452,
          1.3869999999999998,
          1.3030000000000002,
          1.365,
          1.376,
          1.3719999999999999,
          1.034,
          1.276,
          1.609,
          1.3330000000000002,
          1.499,
          1.3730000000000002,
          1.3559999999999999,
          1.433,
          1.2690000000000001,
          1.5030000000000001,
          1.3,
          1.07,
          1.324,
          1.368,
          1.159,
          0.8,
          1.403,
          1.6840000000000002,
          1.286,
          1.149,
          1.004,
          1.124,
          1.5719999999999998,
          0.794,
          1.294,
          1.3619999999999999,
          1.246,
          1.2309999999999999,
          1.206,
          0.745,
          1.238,
          0.985,
          1.258,
          0.6940000000000001,
          0.882,
          1.092,
          1.162,
          1.263,
          0.912,
          1.5,
          1.05,
          1.187,
          1.301,
          1.237,
          0.831,
          1.12,
          1.327,
          0.642,
          1.173,
          0.7759999999999999,
          1.2009999999999998,
          0.855,
          1.263,
          0.96,
          1.2209999999999999,
          0.677,
          1.183,
          0.807,
          1.004,
          0.685,
          1.044,
          1.051,
          0.493,
          1.155,
          1.4380000000000002,
          1.015,
          0.945,
          1.183,
          1.2209999999999999,
          1.067,
          1.181,
          0.948,
          0.983,
          0.696,
          0.551,
          1.052,
          1.002,
          0.8009999999999999,
          1.043,
          0.987,
          0.9309999999999999,
          1.0290000000000001,
          0.741,
          0.813,
          0.5489999999999999,
          1.092,
          0.611,
          0.569,
          0.446,
          0.8370000000000001,
          0.39299999999999996,
          0.6729999999999999,
          1.057,
          0.764,
          0.96,
          0.9470000000000001,
          0.96,
          0.574,
          0.657,
          0.45,
          0.0,
          0.879,
          0.138,
          0.331,
          0.85,
          1.1,
          0.38,
          0.8859999999999999,
          0.308,
          0.512,
          0.57,
          0.204,
          0.9209999999999999,
          0.562,
          1.043,
          0.094,
          0.385,
          0.268,
          0.9490000000000001,
          0.71,
          0.35,
          0.82,
          0.336,
          0.8109999999999999,
          0.332,
          0.9129999999999999,
          0.578,
          0.275,
          0.755,
          0.073,
          0.27399999999999997,
          0.27399999999999997,
          0.489,
          0.046,
          0.366,
          0.32299999999999995,
          1.041,
          0.619,
          0.191,
          0.287,
          0.359,
          0.47600000000000003,
          0.35,
          0.026000000000000002,
          0.306
         ],
         "y": [
          7.769,
          7.6,
          7.553999999999999,
          7.494,
          7.4879999999999995,
          7.48,
          7.343,
          7.307,
          7.278,
          7.246,
          7.228,
          7.167000000000001,
          7.138999999999999,
          7.09,
          7.053999999999999,
          7.021,
          6.985,
          6.922999999999999,
          6.892,
          6.852,
          6.825,
          6.726,
          6.595,
          6.5920000000000005,
          6.446000000000001,
          6.444,
          6.436,
          6.375,
          6.374,
          6.354,
          6.321000000000001,
          6.3,
          6.292999999999999,
          6.2620000000000005,
          6.252999999999999,
          6.223,
          6.199,
          6.1979999999999995,
          6.192,
          6.182,
          6.1739999999999995,
          6.149,
          6.125,
          6.117999999999999,
          6.105,
          6.1,
          6.086,
          6.07,
          6.046,
          6.028,
          6.021,
          6.007999999999999,
          5.94,
          5.895,
          5.893,
          5.89,
          5.888,
          5.886,
          5.86,
          5.809,
          5.779,
          5.757999999999999,
          5.742999999999999,
          5.718,
          5.697,
          5.693,
          5.653,
          5.648,
          5.631,
          5.603,
          5.529,
          5.525,
          5.523,
          5.4670000000000005,
          5.432,
          5.43,
          5.425,
          5.386,
          5.372999999999999,
          5.3389999999999995,
          5.3229999999999995,
          5.287000000000001,
          5.285,
          5.274,
          5.265,
          5.261,
          5.247000000000001,
          5.211,
          5.207999999999999,
          5.207999999999999,
          5.197,
          5.192,
          5.191,
          5.175,
          5.082,
          5.044,
          5.011,
          4.996,
          4.944,
          4.913,
          4.906000000000001,
          4.883,
          4.812,
          4.7989999999999995,
          4.796,
          4.7219999999999995,
          4.718999999999999,
          4.707,
          4.7,
          4.696000000000001,
          4.681,
          4.668,
          4.638999999999999,
          4.628,
          4.587,
          4.559,
          4.548,
          4.534,
          4.519,
          4.516,
          4.5089999999999995,
          4.49,
          4.466,
          4.461,
          4.456,
          4.437,
          4.418,
          4.39,
          4.374,
          4.3660000000000005,
          4.36,
          4.35,
          4.332,
          4.2860000000000005,
          4.212,
          4.189,
          4.166,
          4.107,
          4.085,
          4.015,
          3.975,
          3.9730000000000003,
          3.9330000000000003,
          3.802,
          3.775,
          3.6630000000000003,
          3.597,
          3.488,
          3.4619999999999997,
          3.41,
          3.38,
          3.3339999999999996,
          3.2310000000000003,
          3.2030000000000003,
          3.083,
          2.853
         ]
        }
       ],
       "layout": {
        "template": {
         "data": {
          "bar": [
           {
            "error_x": {
             "color": "#2a3f5f"
            },
            "error_y": {
             "color": "#2a3f5f"
            },
            "marker": {
             "line": {
              "color": "#E5ECF6",
              "width": 0.5
             }
            },
            "type": "bar"
           }
          ],
          "barpolar": [
           {
            "marker": {
             "line": {
              "color": "#E5ECF6",
              "width": 0.5
             }
            },
            "type": "barpolar"
           }
          ],
          "carpet": [
           {
            "aaxis": {
             "endlinecolor": "#2a3f5f",
             "gridcolor": "white",
             "linecolor": "white",
             "minorgridcolor": "white",
             "startlinecolor": "#2a3f5f"
            },
            "baxis": {
             "endlinecolor": "#2a3f5f",
             "gridcolor": "white",
             "linecolor": "white",
             "minorgridcolor": "white",
             "startlinecolor": "#2a3f5f"
            },
            "type": "carpet"
           }
          ],
          "choropleth": [
           {
            "colorbar": {
             "outlinewidth": 0,
             "ticks": ""
            },
            "type": "choropleth"
           }
          ],
          "contour": [
           {
            "colorbar": {
             "outlinewidth": 0,
             "ticks": ""
            },
            "colorscale": [
             [
              0.0,
              "#0d0887"
             ],
             [
              0.1111111111111111,
              "#46039f"
             ],
             [
              0.2222222222222222,
              "#7201a8"
             ],
             [
              0.3333333333333333,
              "#9c179e"
             ],
             [
              0.4444444444444444,
              "#bd3786"
             ],
             [
              0.5555555555555556,
              "#d8576b"
             ],
             [
              0.6666666666666666,
              "#ed7953"
             ],
             [
              0.7777777777777778,
              "#fb9f3a"
             ],
             [
              0.8888888888888888,
              "#fdca26"
             ],
             [
              1.0,
              "#f0f921"
             ]
            ],
            "type": "contour"
           }
          ],
          "contourcarpet": [
           {
            "colorbar": {
             "outlinewidth": 0,
             "ticks": ""
            },
            "type": "contourcarpet"
           }
          ],
          "heatmap": [
           {
            "colorbar": {
             "outlinewidth": 0,
             "ticks": ""
            },
            "colorscale": [
             [
              0.0,
              "#0d0887"
             ],
             [
              0.1111111111111111,
              "#46039f"
             ],
             [
              0.2222222222222222,
              "#7201a8"
             ],
             [
              0.3333333333333333,
              "#9c179e"
             ],
             [
              0.4444444444444444,
              "#bd3786"
             ],
             [
              0.5555555555555556,
              "#d8576b"
             ],
             [
              0.6666666666666666,
              "#ed7953"
             ],
             [
              0.7777777777777778,
              "#fb9f3a"
             ],
             [
              0.8888888888888888,
              "#fdca26"
             ],
             [
              1.0,
              "#f0f921"
             ]
            ],
            "type": "heatmap"
           }
          ],
          "heatmapgl": [
           {
            "colorbar": {
             "outlinewidth": 0,
             "ticks": ""
            },
            "colorscale": [
             [
              0.0,
              "#0d0887"
             ],
             [
              0.1111111111111111,
              "#46039f"
             ],
             [
              0.2222222222222222,
              "#7201a8"
             ],
             [
              0.3333333333333333,
              "#9c179e"
             ],
             [
              0.4444444444444444,
              "#bd3786"
             ],
             [
              0.5555555555555556,
              "#d8576b"
             ],
             [
              0.6666666666666666,
              "#ed7953"
             ],
             [
              0.7777777777777778,
              "#fb9f3a"
             ],
             [
              0.8888888888888888,
              "#fdca26"
             ],
             [
              1.0,
              "#f0f921"
             ]
            ],
            "type": "heatmapgl"
           }
          ],
          "histogram": [
           {
            "marker": {
             "colorbar": {
              "outlinewidth": 0,
              "ticks": ""
             }
            },
            "type": "histogram"
           }
          ],
          "histogram2d": [
           {
            "colorbar": {
             "outlinewidth": 0,
             "ticks": ""
            },
            "colorscale": [
             [
              0.0,
              "#0d0887"
             ],
             [
              0.1111111111111111,
              "#46039f"
             ],
             [
              0.2222222222222222,
              "#7201a8"
             ],
             [
              0.3333333333333333,
              "#9c179e"
             ],
             [
              0.4444444444444444,
              "#bd3786"
             ],
             [
              0.5555555555555556,
              "#d8576b"
             ],
             [
              0.6666666666666666,
              "#ed7953"
             ],
             [
              0.7777777777777778,
              "#fb9f3a"
             ],
             [
              0.8888888888888888,
              "#fdca26"
             ],
             [
              1.0,
              "#f0f921"
             ]
            ],
            "type": "histogram2d"
           }
          ],
          "histogram2dcontour": [
           {
            "colorbar": {
             "outlinewidth": 0,
             "ticks": ""
            },
            "colorscale": [
             [
              0.0,
              "#0d0887"
             ],
             [
              0.1111111111111111,
              "#46039f"
             ],
             [
              0.2222222222222222,
              "#7201a8"
             ],
             [
              0.3333333333333333,
              "#9c179e"
             ],
             [
              0.4444444444444444,
              "#bd3786"
             ],
             [
              0.5555555555555556,
              "#d8576b"
             ],
             [
              0.6666666666666666,
              "#ed7953"
             ],
             [
              0.7777777777777778,
              "#fb9f3a"
             ],
             [
              0.8888888888888888,
              "#fdca26"
             ],
             [
              1.0,
              "#f0f921"
             ]
            ],
            "type": "histogram2dcontour"
           }
          ],
          "mesh3d": [
           {
            "colorbar": {
             "outlinewidth": 0,
             "ticks": ""
            },
            "type": "mesh3d"
           }
          ],
          "parcoords": [
           {
            "line": {
             "colorbar": {
              "outlinewidth": 0,
              "ticks": ""
             }
            },
            "type": "parcoords"
           }
          ],
          "pie": [
           {
            "automargin": true,
            "type": "pie"
           }
          ],
          "scatter": [
           {
            "marker": {
             "colorbar": {
              "outlinewidth": 0,
              "ticks": ""
             }
            },
            "type": "scatter"
           }
          ],
          "scatter3d": [
           {
            "line": {
             "colorbar": {
              "outlinewidth": 0,
              "ticks": ""
             }
            },
            "marker": {
             "colorbar": {
              "outlinewidth": 0,
              "ticks": ""
             }
            },
            "type": "scatter3d"
           }
          ],
          "scattercarpet": [
           {
            "marker": {
             "colorbar": {
              "outlinewidth": 0,
              "ticks": ""
             }
            },
            "type": "scattercarpet"
           }
          ],
          "scattergeo": [
           {
            "marker": {
             "colorbar": {
              "outlinewidth": 0,
              "ticks": ""
             }
            },
            "type": "scattergeo"
           }
          ],
          "scattergl": [
           {
            "marker": {
             "colorbar": {
              "outlinewidth": 0,
              "ticks": ""
             }
            },
            "type": "scattergl"
           }
          ],
          "scattermapbox": [
           {
            "marker": {
             "colorbar": {
              "outlinewidth": 0,
              "ticks": ""
             }
            },
            "type": "scattermapbox"
           }
          ],
          "scatterpolar": [
           {
            "marker": {
             "colorbar": {
              "outlinewidth": 0,
              "ticks": ""
             }
            },
            "type": "scatterpolar"
           }
          ],
          "scatterpolargl": [
           {
            "marker": {
             "colorbar": {
              "outlinewidth": 0,
              "ticks": ""
             }
            },
            "type": "scatterpolargl"
           }
          ],
          "scatterternary": [
           {
            "marker": {
             "colorbar": {
              "outlinewidth": 0,
              "ticks": ""
             }
            },
            "type": "scatterternary"
           }
          ],
          "surface": [
           {
            "colorbar": {
             "outlinewidth": 0,
             "ticks": ""
            },
            "colorscale": [
             [
              0.0,
              "#0d0887"
             ],
             [
              0.1111111111111111,
              "#46039f"
             ],
             [
              0.2222222222222222,
              "#7201a8"
             ],
             [
              0.3333333333333333,
              "#9c179e"
             ],
             [
              0.4444444444444444,
              "#bd3786"
             ],
             [
              0.5555555555555556,
              "#d8576b"
             ],
             [
              0.6666666666666666,
              "#ed7953"
             ],
             [
              0.7777777777777778,
              "#fb9f3a"
             ],
             [
              0.8888888888888888,
              "#fdca26"
             ],
             [
              1.0,
              "#f0f921"
             ]
            ],
            "type": "surface"
           }
          ],
          "table": [
           {
            "cells": {
             "fill": {
              "color": "#EBF0F8"
             },
             "line": {
              "color": "white"
             }
            },
            "header": {
             "fill": {
              "color": "#C8D4E3"
             },
             "line": {
              "color": "white"
             }
            },
            "type": "table"
           }
          ]
         },
         "layout": {
          "annotationdefaults": {
           "arrowcolor": "#2a3f5f",
           "arrowhead": 0,
           "arrowwidth": 1
          },
          "coloraxis": {
           "colorbar": {
            "outlinewidth": 0,
            "ticks": ""
           }
          },
          "colorscale": {
           "diverging": [
            [
             0,
             "#8e0152"
            ],
            [
             0.1,
             "#c51b7d"
            ],
            [
             0.2,
             "#de77ae"
            ],
            [
             0.3,
             "#f1b6da"
            ],
            [
             0.4,
             "#fde0ef"
            ],
            [
             0.5,
             "#f7f7f7"
            ],
            [
             0.6,
             "#e6f5d0"
            ],
            [
             0.7,
             "#b8e186"
            ],
            [
             0.8,
             "#7fbc41"
            ],
            [
             0.9,
             "#4d9221"
            ],
            [
             1,
             "#276419"
            ]
           ],
           "sequential": [
            [
             0.0,
             "#0d0887"
            ],
            [
             0.1111111111111111,
             "#46039f"
            ],
            [
             0.2222222222222222,
             "#7201a8"
            ],
            [
             0.3333333333333333,
             "#9c179e"
            ],
            [
             0.4444444444444444,
             "#bd3786"
            ],
            [
             0.5555555555555556,
             "#d8576b"
            ],
            [
             0.6666666666666666,
             "#ed7953"
            ],
            [
             0.7777777777777778,
             "#fb9f3a"
            ],
            [
             0.8888888888888888,
             "#fdca26"
            ],
            [
             1.0,
             "#f0f921"
            ]
           ],
           "sequentialminus": [
            [
             0.0,
             "#0d0887"
            ],
            [
             0.1111111111111111,
             "#46039f"
            ],
            [
             0.2222222222222222,
             "#7201a8"
            ],
            [
             0.3333333333333333,
             "#9c179e"
            ],
            [
             0.4444444444444444,
             "#bd3786"
            ],
            [
             0.5555555555555556,
             "#d8576b"
            ],
            [
             0.6666666666666666,
             "#ed7953"
            ],
            [
             0.7777777777777778,
             "#fb9f3a"
            ],
            [
             0.8888888888888888,
             "#fdca26"
            ],
            [
             1.0,
             "#f0f921"
            ]
           ]
          },
          "colorway": [
           "#636efa",
           "#EF553B",
           "#00cc96",
           "#ab63fa",
           "#FFA15A",
           "#19d3f3",
           "#FF6692",
           "#B6E880",
           "#FF97FF",
           "#FECB52"
          ],
          "font": {
           "color": "#2a3f5f"
          },
          "geo": {
           "bgcolor": "white",
           "lakecolor": "white",
           "landcolor": "#E5ECF6",
           "showlakes": true,
           "showland": true,
           "subunitcolor": "white"
          },
          "hoverlabel": {
           "align": "left"
          },
          "hovermode": "closest",
          "mapbox": {
           "style": "light"
          },
          "paper_bgcolor": "white",
          "plot_bgcolor": "#E5ECF6",
          "polar": {
           "angularaxis": {
            "gridcolor": "white",
            "linecolor": "white",
            "ticks": ""
           },
           "bgcolor": "#E5ECF6",
           "radialaxis": {
            "gridcolor": "white",
            "linecolor": "white",
            "ticks": ""
           }
          },
          "scene": {
           "xaxis": {
            "backgroundcolor": "#E5ECF6",
            "gridcolor": "white",
            "gridwidth": 2,
            "linecolor": "white",
            "showbackground": true,
            "ticks": "",
            "zerolinecolor": "white"
           },
           "yaxis": {
            "backgroundcolor": "#E5ECF6",
            "gridcolor": "white",
            "gridwidth": 2,
            "linecolor": "white",
            "showbackground": true,
            "ticks": "",
            "zerolinecolor": "white"
           },
           "zaxis": {
            "backgroundcolor": "#E5ECF6",
            "gridcolor": "white",
            "gridwidth": 2,
            "linecolor": "white",
            "showbackground": true,
            "ticks": "",
            "zerolinecolor": "white"
           }
          },
          "shapedefaults": {
           "line": {
            "color": "#2a3f5f"
           }
          },
          "ternary": {
           "aaxis": {
            "gridcolor": "white",
            "linecolor": "white",
            "ticks": ""
           },
           "baxis": {
            "gridcolor": "white",
            "linecolor": "white",
            "ticks": ""
           },
           "bgcolor": "#E5ECF6",
           "caxis": {
            "gridcolor": "white",
            "linecolor": "white",
            "ticks": ""
           }
          },
          "title": {
           "x": 0.05
          },
          "xaxis": {
           "automargin": true,
           "gridcolor": "white",
           "linecolor": "white",
           "ticks": "",
           "title": {
            "standoff": 15
           },
           "zerolinecolor": "white",
           "zerolinewidth": 2
          },
          "yaxis": {
           "automargin": true,
           "gridcolor": "white",
           "linecolor": "white",
           "ticks": "",
           "title": {
            "standoff": 15
           },
           "zerolinecolor": "white",
           "zerolinewidth": 2
          }
         }
        }
       }
      },
      "text/html": "<div>\n        \n        \n            <div id=\"cd88dafa-5c36-4beb-94a9-36bdbc7d7b3a\" class=\"plotly-graph-div\" style=\"height:525px; width:100%;\"></div>\n            <script type=\"text/javascript\">\n                require([\"plotly\"], function(Plotly) {\n                    window.PLOTLYENV=window.PLOTLYENV || {};\n                    \n                if (document.getElementById(\"cd88dafa-5c36-4beb-94a9-36bdbc7d7b3a\")) {\n                    Plotly.newPlot(\n                        'cd88dafa-5c36-4beb-94a9-36bdbc7d7b3a',\n                        [{\"hovertext\": [\"Finland\", \"Denmark\", \"Norway\", \"Iceland\", \"Netherlands\", \"Switzerland\", \"Sweden\", \"New Zealand\", \"Canada\", \"Austria\", \"Australia\", \"Costa Rica\", \"Israel\", \"Luxembourg\", \"United Kingdom\", \"Ireland\", \"Germany\", \"Belgium\", \"United States\", \"Czech Republic\", \"United Arab Emirates\", \"Malta\", \"Mexico\", \"France\", \"Taiwan\", \"Chile\", \"Guatemala\", \"Saudi Arabia\", \"Qatar\", \"Spain\", \"Panama\", \"Brazil\", \"Uruguay\", \"Singapore\", \"El Salvador\", \"Italy\", \"Bahrain\", \"Slovakia\", \"Trinidad & Tobago\", \"Poland\", \"Uzbekistan\", \"Lithuania\", \"Colombia\", \"Slovenia\", \"Nicaragua\", \"Kosovo\", \"Argentina\", \"Romania\", \"Cyprus\", \"Ecuador\", \"Kuwait\", \"Thailand\", \"Latvia\", \"South Korea\", \"Estonia\", \"Jamaica\", \"Mauritius\", \"Japan\", \"Honduras\", \"Kazakhstan\", \"Bolivia\", \"Hungary\", \"Paraguay\", \"Northern Cyprus\", \"Peru\", \"Portugal\", \"Pakistan\", \"Russia\", \"Philippines\", \"Serbia\", \"Moldova\", \"Libya\", \"Montenegro\", \"Tajikistan\", \"Croatia\", \"Hong Kong\", \"Dominican Republic\", \"Bosnia and Herzegovina\", \"Turkey\", \"Malaysia\", \"Belarus\", \"Greece\", \"Mongolia\", \"North Macedonia\", \"Nigeria\", \"Kyrgyzstan\", \"Turkmenistan\", \"Algeria\", \"Morocco\", \"Azerbaijan\", \"Lebanon\", \"Indonesia\", \"China\", \"Vietnam\", \"Bhutan\", \"Cameroon\", \"Bulgaria\", \"Ghana\", \"Ivory Coast\", \"Nepal\", \"Jordan\", \"Benin\", \"Congo (Brazzaville)\", \"Gabon\", \"Laos\", \"South Africa\", \"Albania\", \"Venezuela\", \"Cambodia\", \"Palestinian Territories\", \"Senegal\", \"Somalia\", \"Namibia\", \"Niger\", \"Burkina Faso\", \"Armenia\", \"Iran\", \"Guinea\", \"Georgia\", \"Gambia\", \"Kenya\", \"Mauritania\", \"Mozambique\", \"Tunisia\", \"Bangladesh\", \"Iraq\", \"Congo (Kinshasa)\", \"Mali\", \"Sierra Leone\", \"Sri Lanka\", \"Myanmar\", \"Chad\", \"Ukraine\", \"Ethiopia\", \"Swaziland\", \"Uganda\", \"Egypt\", \"Zambia\", \"Togo\", \"India\", \"Liberia\", \"Comoros\", \"Madagascar\", \"Lesotho\", \"Burundi\", \"Zimbabwe\", \"Haiti\", \"Botswana\", \"Syria\", \"Malawi\", \"Yemen\", \"Rwanda\", \"Tanzania\", \"Afghanistan\", \"Central African Republic\", \"South Sudan\"], \"marker\": {\"color\": [7.769, 7.6, 7.553999999999999, 7.494, 7.4879999999999995, 7.48, 7.343, 7.307, 7.278, 7.246, 7.228, 7.167000000000001, 7.138999999999999, 7.09, 7.053999999999999, 7.021, 6.985, 6.922999999999999, 6.892, 6.852, 6.825, 6.726, 6.595, 6.5920000000000005, 6.446000000000001, 6.444, 6.436, 6.375, 6.374, 6.354, 6.321000000000001, 6.3, 6.292999999999999, 6.2620000000000005, 6.252999999999999, 6.223, 6.199, 6.1979999999999995, 6.192, 6.182, 6.1739999999999995, 6.149, 6.125, 6.117999999999999, 6.105, 6.1, 6.086, 6.07, 6.046, 6.028, 6.021, 6.007999999999999, 5.94, 5.895, 5.893, 5.89, 5.888, 5.886, 5.86, 5.809, 5.779, 5.757999999999999, 5.742999999999999, 5.718, 5.697, 5.693, 5.653, 5.648, 5.631, 5.603, 5.529, 5.525, 5.523, 5.4670000000000005, 5.432, 5.43, 5.425, 5.386, 5.372999999999999, 5.3389999999999995, 5.3229999999999995, 5.287000000000001, 5.285, 5.274, 5.265, 5.261, 5.247000000000001, 5.211, 5.207999999999999, 5.207999999999999, 5.197, 5.192, 5.191, 5.175, 5.082, 5.044, 5.011, 4.996, 4.944, 4.913, 4.906000000000001, 4.883, 4.812, 4.7989999999999995, 4.796, 4.7219999999999995, 4.718999999999999, 4.707, 4.7, 4.696000000000001, 4.681, 4.668, 4.638999999999999, 4.628, 4.587, 4.559, 4.548, 4.534, 4.519, 4.516, 4.5089999999999995, 4.49, 4.466, 4.461, 4.456, 4.437, 4.418, 4.39, 4.374, 4.3660000000000005, 4.36, 4.35, 4.332, 4.2860000000000005, 4.212, 4.189, 4.166, 4.107, 4.085, 4.015, 3.975, 3.9730000000000003, 3.9330000000000003, 3.802, 3.775, 3.6630000000000003, 3.597, 3.488, 3.4619999999999997, 3.41, 3.38, 3.3339999999999996, 3.2310000000000003, 3.2030000000000003, 3.083, 2.853], \"size\": [23.307000000000002, 22.799999999999997, 22.662, 22.482, 22.464, 22.44, 22.029, 21.921, 21.834, 21.738, 21.683999999999997, 21.501, 21.416999999999998, 21.27, 21.162, 21.063, 20.955000000000002, 20.769, 20.676000000000002, 20.556, 20.475, 20.178, 19.785, 19.776000000000003, 19.338, 19.332, 19.308, 19.125, 19.122, 19.062, 18.963, 18.9, 18.878999999999998, 18.786, 18.758999999999997, 18.669, 18.597, 18.593999999999998, 18.576, 18.546, 18.522, 18.447, 18.375, 18.354, 18.315, 18.299999999999997, 18.258000000000003, 18.21, 18.138, 18.084, 18.063, 18.023999999999997, 17.82, 17.685, 17.679, 17.669999999999998, 17.664, 17.658, 17.580000000000002, 17.427, 17.337, 17.273999999999997, 17.229, 17.154, 17.091, 17.079, 16.959, 16.944, 16.893, 16.808999999999997, 16.587, 16.575000000000003, 16.569, 16.401000000000003, 16.296, 16.29, 16.275, 16.158, 16.119, 16.017, 15.968999999999998, 15.861000000000002, 15.855, 15.822, 15.794999999999998, 15.783000000000001, 15.741000000000003, 15.633000000000001, 15.623999999999999, 15.623999999999999, 15.591000000000001, 15.576, 15.573, 15.524999999999999, 15.245999999999999, 15.131999999999998, 15.033000000000001, 14.988000000000001, 14.832, 14.739, 14.718000000000002, 14.649000000000001, 14.436, 14.396999999999998, 14.388000000000002, 14.165999999999999, 14.156999999999998, 14.120999999999999, 14.100000000000001, 14.088000000000001, 14.043, 14.004000000000001, 13.916999999999998, 13.884, 13.761, 13.677, 13.644, 13.602, 13.557, 13.548, 13.526999999999997, 13.47, 13.398, 13.383000000000001, 13.368000000000002, 13.311, 13.254000000000001, 13.169999999999998, 13.122, 13.098000000000003, 13.080000000000002, 13.049999999999999, 12.995999999999999, 12.858, 12.636, 12.567, 12.498000000000001, 12.321000000000002, 12.254999999999999, 12.044999999999998, 11.925, 11.919, 11.799000000000001, 11.406, 11.325, 10.989, 10.791, 10.464, 10.386, 10.23, 10.14, 10.001999999999999, 9.693000000000001, 9.609000000000002, 9.249, 8.559000000000001]}, \"mode\": \"markers\", \"type\": \"scatter\", \"x\": [1.34, 1.383, 1.4880000000000002, 1.38, 1.396, 1.452, 1.3869999999999998, 1.3030000000000002, 1.365, 1.376, 1.3719999999999999, 1.034, 1.276, 1.609, 1.3330000000000002, 1.499, 1.3730000000000002, 1.3559999999999999, 1.433, 1.2690000000000001, 1.5030000000000001, 1.3, 1.07, 1.324, 1.368, 1.159, 0.8, 1.403, 1.6840000000000002, 1.286, 1.149, 1.004, 1.124, 1.5719999999999998, 0.794, 1.294, 1.3619999999999999, 1.246, 1.2309999999999999, 1.206, 0.745, 1.238, 0.985, 1.258, 0.6940000000000001, 0.882, 1.092, 1.162, 1.263, 0.912, 1.5, 1.05, 1.187, 1.301, 1.237, 0.831, 1.12, 1.327, 0.642, 1.173, 0.7759999999999999, 1.2009999999999998, 0.855, 1.263, 0.96, 1.2209999999999999, 0.677, 1.183, 0.807, 1.004, 0.685, 1.044, 1.051, 0.493, 1.155, 1.4380000000000002, 1.015, 0.945, 1.183, 1.2209999999999999, 1.067, 1.181, 0.948, 0.983, 0.696, 0.551, 1.052, 1.002, 0.8009999999999999, 1.043, 0.987, 0.9309999999999999, 1.0290000000000001, 0.741, 0.813, 0.5489999999999999, 1.092, 0.611, 0.569, 0.446, 0.8370000000000001, 0.39299999999999996, 0.6729999999999999, 1.057, 0.764, 0.96, 0.9470000000000001, 0.96, 0.574, 0.657, 0.45, 0.0, 0.879, 0.138, 0.331, 0.85, 1.1, 0.38, 0.8859999999999999, 0.308, 0.512, 0.57, 0.204, 0.9209999999999999, 0.562, 1.043, 0.094, 0.385, 0.268, 0.9490000000000001, 0.71, 0.35, 0.82, 0.336, 0.8109999999999999, 0.332, 0.9129999999999999, 0.578, 0.275, 0.755, 0.073, 0.27399999999999997, 0.27399999999999997, 0.489, 0.046, 0.366, 0.32299999999999995, 1.041, 0.619, 0.191, 0.287, 0.359, 0.47600000000000003, 0.35, 0.026000000000000002, 0.306], \"y\": [7.769, 7.6, 7.553999999999999, 7.494, 7.4879999999999995, 7.48, 7.343, 7.307, 7.278, 7.246, 7.228, 7.167000000000001, 7.138999999999999, 7.09, 7.053999999999999, 7.021, 6.985, 6.922999999999999, 6.892, 6.852, 6.825, 6.726, 6.595, 6.5920000000000005, 6.446000000000001, 6.444, 6.436, 6.375, 6.374, 6.354, 6.321000000000001, 6.3, 6.292999999999999, 6.2620000000000005, 6.252999999999999, 6.223, 6.199, 6.1979999999999995, 6.192, 6.182, 6.1739999999999995, 6.149, 6.125, 6.117999999999999, 6.105, 6.1, 6.086, 6.07, 6.046, 6.028, 6.021, 6.007999999999999, 5.94, 5.895, 5.893, 5.89, 5.888, 5.886, 5.86, 5.809, 5.779, 5.757999999999999, 5.742999999999999, 5.718, 5.697, 5.693, 5.653, 5.648, 5.631, 5.603, 5.529, 5.525, 5.523, 5.4670000000000005, 5.432, 5.43, 5.425, 5.386, 5.372999999999999, 5.3389999999999995, 5.3229999999999995, 5.287000000000001, 5.285, 5.274, 5.265, 5.261, 5.247000000000001, 5.211, 5.207999999999999, 5.207999999999999, 5.197, 5.192, 5.191, 5.175, 5.082, 5.044, 5.011, 4.996, 4.944, 4.913, 4.906000000000001, 4.883, 4.812, 4.7989999999999995, 4.796, 4.7219999999999995, 4.718999999999999, 4.707, 4.7, 4.696000000000001, 4.681, 4.668, 4.638999999999999, 4.628, 4.587, 4.559, 4.548, 4.534, 4.519, 4.516, 4.5089999999999995, 4.49, 4.466, 4.461, 4.456, 4.437, 4.418, 4.39, 4.374, 4.3660000000000005, 4.36, 4.35, 4.332, 4.2860000000000005, 4.212, 4.189, 4.166, 4.107, 4.085, 4.015, 3.975, 3.9730000000000003, 3.9330000000000003, 3.802, 3.775, 3.6630000000000003, 3.597, 3.488, 3.4619999999999997, 3.41, 3.38, 3.3339999999999996, 3.2310000000000003, 3.2030000000000003, 3.083, 2.853]}],\n                        {\"template\": {\"data\": {\"bar\": [{\"error_x\": {\"color\": \"#2a3f5f\"}, \"error_y\": {\"color\": \"#2a3f5f\"}, \"marker\": {\"line\": {\"color\": \"#E5ECF6\", \"width\": 0.5}}, \"type\": \"bar\"}], \"barpolar\": [{\"marker\": {\"line\": {\"color\": \"#E5ECF6\", \"width\": 0.5}}, \"type\": \"barpolar\"}], \"carpet\": [{\"aaxis\": {\"endlinecolor\": \"#2a3f5f\", \"gridcolor\": \"white\", \"linecolor\": \"white\", \"minorgridcolor\": \"white\", \"startlinecolor\": \"#2a3f5f\"}, \"baxis\": {\"endlinecolor\": \"#2a3f5f\", \"gridcolor\": \"white\", \"linecolor\": \"white\", \"minorgridcolor\": \"white\", \"startlinecolor\": \"#2a3f5f\"}, \"type\": \"carpet\"}], \"choropleth\": [{\"colorbar\": {\"outlinewidth\": 0, \"ticks\": \"\"}, \"type\": \"choropleth\"}], \"contour\": [{\"colorbar\": {\"outlinewidth\": 0, \"ticks\": \"\"}, \"colorscale\": [[0.0, \"#0d0887\"], [0.1111111111111111, \"#46039f\"], [0.2222222222222222, \"#7201a8\"], [0.3333333333333333, \"#9c179e\"], [0.4444444444444444, \"#bd3786\"], [0.5555555555555556, \"#d8576b\"], [0.6666666666666666, \"#ed7953\"], [0.7777777777777778, \"#fb9f3a\"], [0.8888888888888888, \"#fdca26\"], [1.0, \"#f0f921\"]], \"type\": \"contour\"}], \"contourcarpet\": [{\"colorbar\": {\"outlinewidth\": 0, \"ticks\": \"\"}, \"type\": \"contourcarpet\"}], \"heatmap\": [{\"colorbar\": {\"outlinewidth\": 0, \"ticks\": \"\"}, \"colorscale\": [[0.0, \"#0d0887\"], [0.1111111111111111, \"#46039f\"], [0.2222222222222222, \"#7201a8\"], [0.3333333333333333, \"#9c179e\"], [0.4444444444444444, \"#bd3786\"], [0.5555555555555556, \"#d8576b\"], [0.6666666666666666, \"#ed7953\"], [0.7777777777777778, \"#fb9f3a\"], [0.8888888888888888, \"#fdca26\"], [1.0, \"#f0f921\"]], \"type\": \"heatmap\"}], \"heatmapgl\": [{\"colorbar\": {\"outlinewidth\": 0, \"ticks\": \"\"}, \"colorscale\": [[0.0, \"#0d0887\"], [0.1111111111111111, \"#46039f\"], [0.2222222222222222, \"#7201a8\"], [0.3333333333333333, \"#9c179e\"], [0.4444444444444444, \"#bd3786\"], [0.5555555555555556, \"#d8576b\"], [0.6666666666666666, \"#ed7953\"], [0.7777777777777778, \"#fb9f3a\"], [0.8888888888888888, \"#fdca26\"], [1.0, \"#f0f921\"]], \"type\": \"heatmapgl\"}], \"histogram\": [{\"marker\": {\"colorbar\": {\"outlinewidth\": 0, \"ticks\": \"\"}}, \"type\": \"histogram\"}], \"histogram2d\": [{\"colorbar\": {\"outlinewidth\": 0, \"ticks\": \"\"}, \"colorscale\": [[0.0, \"#0d0887\"], [0.1111111111111111, \"#46039f\"], [0.2222222222222222, \"#7201a8\"], [0.3333333333333333, \"#9c179e\"], [0.4444444444444444, \"#bd3786\"], [0.5555555555555556, \"#d8576b\"], [0.6666666666666666, \"#ed7953\"], [0.7777777777777778, \"#fb9f3a\"], [0.8888888888888888, \"#fdca26\"], [1.0, \"#f0f921\"]], \"type\": \"histogram2d\"}], \"histogram2dcontour\": [{\"colorbar\": {\"outlinewidth\": 0, \"ticks\": \"\"}, \"colorscale\": [[0.0, \"#0d0887\"], [0.1111111111111111, \"#46039f\"], [0.2222222222222222, \"#7201a8\"], [0.3333333333333333, \"#9c179e\"], [0.4444444444444444, \"#bd3786\"], [0.5555555555555556, \"#d8576b\"], [0.6666666666666666, \"#ed7953\"], [0.7777777777777778, \"#fb9f3a\"], [0.8888888888888888, \"#fdca26\"], [1.0, \"#f0f921\"]], \"type\": \"histogram2dcontour\"}], \"mesh3d\": [{\"colorbar\": {\"outlinewidth\": 0, \"ticks\": \"\"}, \"type\": \"mesh3d\"}], \"parcoords\": [{\"line\": {\"colorbar\": {\"outlinewidth\": 0, \"ticks\": \"\"}}, \"type\": \"parcoords\"}], \"pie\": [{\"automargin\": true, \"type\": \"pie\"}], \"scatter\": [{\"marker\": {\"colorbar\": {\"outlinewidth\": 0, \"ticks\": \"\"}}, \"type\": \"scatter\"}], \"scatter3d\": [{\"line\": {\"colorbar\": {\"outlinewidth\": 0, \"ticks\": \"\"}}, \"marker\": {\"colorbar\": {\"outlinewidth\": 0, \"ticks\": \"\"}}, \"type\": \"scatter3d\"}], \"scattercarpet\": [{\"marker\": {\"colorbar\": {\"outlinewidth\": 0, \"ticks\": \"\"}}, \"type\": \"scattercarpet\"}], \"scattergeo\": [{\"marker\": {\"colorbar\": {\"outlinewidth\": 0, \"ticks\": \"\"}}, \"type\": \"scattergeo\"}], \"scattergl\": [{\"marker\": {\"colorbar\": {\"outlinewidth\": 0, \"ticks\": \"\"}}, \"type\": \"scattergl\"}], \"scattermapbox\": [{\"marker\": {\"colorbar\": {\"outlinewidth\": 0, \"ticks\": \"\"}}, \"type\": \"scattermapbox\"}], \"scatterpolar\": [{\"marker\": {\"colorbar\": {\"outlinewidth\": 0, \"ticks\": \"\"}}, \"type\": \"scatterpolar\"}], \"scatterpolargl\": [{\"marker\": {\"colorbar\": {\"outlinewidth\": 0, \"ticks\": \"\"}}, \"type\": \"scatterpolargl\"}], \"scatterternary\": [{\"marker\": {\"colorbar\": {\"outlinewidth\": 0, \"ticks\": \"\"}}, \"type\": \"scatterternary\"}], \"surface\": [{\"colorbar\": {\"outlinewidth\": 0, \"ticks\": \"\"}, \"colorscale\": [[0.0, \"#0d0887\"], [0.1111111111111111, \"#46039f\"], [0.2222222222222222, \"#7201a8\"], [0.3333333333333333, \"#9c179e\"], [0.4444444444444444, \"#bd3786\"], [0.5555555555555556, \"#d8576b\"], [0.6666666666666666, \"#ed7953\"], [0.7777777777777778, \"#fb9f3a\"], [0.8888888888888888, \"#fdca26\"], [1.0, \"#f0f921\"]], \"type\": \"surface\"}], \"table\": [{\"cells\": {\"fill\": {\"color\": \"#EBF0F8\"}, \"line\": {\"color\": \"white\"}}, \"header\": {\"fill\": {\"color\": \"#C8D4E3\"}, \"line\": {\"color\": \"white\"}}, \"type\": \"table\"}]}, \"layout\": {\"annotationdefaults\": {\"arrowcolor\": \"#2a3f5f\", \"arrowhead\": 0, \"arrowwidth\": 1}, \"coloraxis\": {\"colorbar\": {\"outlinewidth\": 0, \"ticks\": \"\"}}, \"colorscale\": {\"diverging\": [[0, \"#8e0152\"], [0.1, \"#c51b7d\"], [0.2, \"#de77ae\"], [0.3, \"#f1b6da\"], [0.4, \"#fde0ef\"], [0.5, \"#f7f7f7\"], [0.6, \"#e6f5d0\"], [0.7, \"#b8e186\"], [0.8, \"#7fbc41\"], [0.9, \"#4d9221\"], [1, \"#276419\"]], \"sequential\": [[0.0, \"#0d0887\"], [0.1111111111111111, \"#46039f\"], [0.2222222222222222, \"#7201a8\"], [0.3333333333333333, \"#9c179e\"], [0.4444444444444444, \"#bd3786\"], [0.5555555555555556, \"#d8576b\"], [0.6666666666666666, \"#ed7953\"], [0.7777777777777778, \"#fb9f3a\"], [0.8888888888888888, \"#fdca26\"], [1.0, \"#f0f921\"]], \"sequentialminus\": [[0.0, \"#0d0887\"], [0.1111111111111111, \"#46039f\"], [0.2222222222222222, \"#7201a8\"], [0.3333333333333333, \"#9c179e\"], [0.4444444444444444, \"#bd3786\"], [0.5555555555555556, \"#d8576b\"], [0.6666666666666666, \"#ed7953\"], [0.7777777777777778, \"#fb9f3a\"], [0.8888888888888888, \"#fdca26\"], [1.0, \"#f0f921\"]]}, \"colorway\": [\"#636efa\", \"#EF553B\", \"#00cc96\", \"#ab63fa\", \"#FFA15A\", \"#19d3f3\", \"#FF6692\", \"#B6E880\", \"#FF97FF\", \"#FECB52\"], \"font\": {\"color\": \"#2a3f5f\"}, \"geo\": {\"bgcolor\": \"white\", \"lakecolor\": \"white\", \"landcolor\": \"#E5ECF6\", \"showlakes\": true, \"showland\": true, \"subunitcolor\": \"white\"}, \"hoverlabel\": {\"align\": \"left\"}, \"hovermode\": \"closest\", \"mapbox\": {\"style\": \"light\"}, \"paper_bgcolor\": \"white\", \"plot_bgcolor\": \"#E5ECF6\", \"polar\": {\"angularaxis\": {\"gridcolor\": \"white\", \"linecolor\": \"white\", \"ticks\": \"\"}, \"bgcolor\": \"#E5ECF6\", \"radialaxis\": {\"gridcolor\": \"white\", \"linecolor\": \"white\", \"ticks\": \"\"}}, \"scene\": {\"xaxis\": {\"backgroundcolor\": \"#E5ECF6\", \"gridcolor\": \"white\", \"gridwidth\": 2, \"linecolor\": \"white\", \"showbackground\": true, \"ticks\": \"\", \"zerolinecolor\": \"white\"}, \"yaxis\": {\"backgroundcolor\": \"#E5ECF6\", \"gridcolor\": \"white\", \"gridwidth\": 2, \"linecolor\": \"white\", \"showbackground\": true, \"ticks\": \"\", \"zerolinecolor\": \"white\"}, \"zaxis\": {\"backgroundcolor\": \"#E5ECF6\", \"gridcolor\": \"white\", \"gridwidth\": 2, \"linecolor\": \"white\", \"showbackground\": true, \"ticks\": \"\", \"zerolinecolor\": \"white\"}}, \"shapedefaults\": {\"line\": {\"color\": \"#2a3f5f\"}}, \"ternary\": {\"aaxis\": {\"gridcolor\": \"white\", \"linecolor\": \"white\", \"ticks\": \"\"}, \"baxis\": {\"gridcolor\": \"white\", \"linecolor\": \"white\", \"ticks\": \"\"}, \"bgcolor\": \"#E5ECF6\", \"caxis\": {\"gridcolor\": \"white\", \"linecolor\": \"white\", \"ticks\": \"\"}}, \"title\": {\"x\": 0.05}, \"xaxis\": {\"automargin\": true, \"gridcolor\": \"white\", \"linecolor\": \"white\", \"ticks\": \"\", \"title\": {\"standoff\": 15}, \"zerolinecolor\": \"white\", \"zerolinewidth\": 2}, \"yaxis\": {\"automargin\": true, \"gridcolor\": \"white\", \"linecolor\": \"white\", \"ticks\": \"\", \"title\": {\"standoff\": 15}, \"zerolinecolor\": \"white\", \"zerolinewidth\": 2}}}},\n                        {\"responsive\": true}\n                    ).then(function(){\n                            \nvar gd = document.getElementById('cd88dafa-5c36-4beb-94a9-36bdbc7d7b3a');\nvar x = new MutationObserver(function (mutations, observer) {{\n        var display = window.getComputedStyle(gd).display;\n        if (!display || display === 'none') {{\n            console.log([gd, 'removed!']);\n            Plotly.purge(gd);\n            observer.disconnect();\n        }}\n}});\n\n// Listen for the removal of the full notebook cells\nvar notebookContainer = gd.closest('#notebook-container');\nif (notebookContainer) {{\n    x.observe(notebookContainer, {childList: true});\n}}\n\n// Listen for the clearing of the current output cell\nvar outputEl = gd.closest('.output');\nif (outputEl) {{\n    x.observe(outputEl, {childList: true});\n}}\n\n                        })\n                };\n                });\n            </script>\n        </div>"
     },
     "metadata": {},
     "output_type": "display_data"
    }
   ],
   "source": [
    "fig = go.Figure(data=go.Scatter(\n",
    "    x=data2019['GDP per capita']\n",
    "    , y=data2019['Score']\n",
    "    , mode='markers'\n",
    "    , hovertext=data2019['Country or region']\n",
    "    , marker=dict(\n",
    "        size=data2019['Score'] * 3\n",
    "        , color=data2019['Score']\n",
    "    )\n",
    "))\n",
    "\n",
    "fig.show()"
   ],
   "metadata": {
    "collapsed": false,
    "pycharm": {
     "name": "#%%\n"
    }
   }
  },
  {
   "cell_type": "code",
   "execution_count": 45,
   "outputs": [
    {
     "data": {
      "text/plain": "LinearRegression()"
     },
     "execution_count": 45,
     "metadata": {},
     "output_type": "execute_result"
    }
   ],
   "source": [
    "X = data2019['GDP per capita'].values\n",
    "y = data2019['Score'].values\n",
    "\n",
    "from sklearn.linear_model import LinearRegression\n",
    "\n",
    "X = X.reshape(-1 , 1)\n",
    "\n",
    "model = LinearRegression()\n",
    "model.fit(X, y)"
   ],
   "metadata": {
    "collapsed": false,
    "pycharm": {
     "name": "#%%\n"
    }
   }
  },
  {
   "cell_type": "code",
   "execution_count": 46,
   "outputs": [
    {
     "data": {
      "text/plain": "array([2.218148])"
     },
     "execution_count": 46,
     "metadata": {},
     "output_type": "execute_result"
    }
   ],
   "source": [
    "model.coef_"
   ],
   "metadata": {
    "collapsed": false,
    "pycharm": {
     "name": "#%%\n"
    }
   }
  },
  {
   "cell_type": "code",
   "execution_count": 55,
   "outputs": [],
   "source": [
    "a = []\n",
    "for i in range(200):\n",
    "    a.append(model.predict([[i/100]]))"
   ],
   "metadata": {
    "collapsed": false,
    "pycharm": {
     "name": "#%%\n"
    }
   }
  },
  {
   "cell_type": "code",
   "execution_count": 56,
   "outputs": [
    {
     "data": {
      "text/plain": "[array([3.39934518]),\n array([3.42152666]),\n array([3.44370814]),\n array([3.46588962]),\n array([3.4880711]),\n array([3.51025258]),\n array([3.53243406]),\n array([3.55461554]),\n array([3.57679702]),\n array([3.5989785]),\n array([3.62115998]),\n array([3.64334146]),\n array([3.66552294]),\n array([3.68770442]),\n array([3.7098859]),\n array([3.73206738]),\n array([3.75424886]),\n array([3.77643034]),\n array([3.79861182]),\n array([3.8207933]),\n array([3.84297478]),\n array([3.86515626]),\n array([3.88733774]),\n array([3.90951922]),\n array([3.9317007]),\n array([3.95388218]),\n array([3.97606366]),\n array([3.99824514]),\n array([4.02042662]),\n array([4.0426081]),\n array([4.06478958]),\n array([4.08697106]),\n array([4.10915254]),\n array([4.13133402]),\n array([4.1535155]),\n array([4.17569698]),\n array([4.19787846]),\n array([4.22005994]),\n array([4.24224142]),\n array([4.2644229]),\n array([4.28660438]),\n array([4.30878586]),\n array([4.33096734]),\n array([4.35314882]),\n array([4.3753303]),\n array([4.39751178]),\n array([4.41969326]),\n array([4.44187474]),\n array([4.46405622]),\n array([4.4862377]),\n array([4.50841918]),\n array([4.53060066]),\n array([4.55278214]),\n array([4.57496362]),\n array([4.5971451]),\n array([4.61932658]),\n array([4.64150806]),\n array([4.66368954]),\n array([4.68587102]),\n array([4.7080525]),\n array([4.73023398]),\n array([4.75241546]),\n array([4.77459694]),\n array([4.79677842]),\n array([4.8189599]),\n array([4.84114138]),\n array([4.86332286]),\n array([4.88550434]),\n array([4.90768582]),\n array([4.9298673]),\n array([4.95204878]),\n array([4.97423026]),\n array([4.99641174]),\n array([5.01859322]),\n array([5.0407747]),\n array([5.06295618]),\n array([5.08513766]),\n array([5.10731914]),\n array([5.12950062]),\n array([5.1516821]),\n array([5.17386358]),\n array([5.19604506]),\n array([5.21822654]),\n array([5.24040802]),\n array([5.2625895]),\n array([5.28477098]),\n array([5.30695246]),\n array([5.32913394]),\n array([5.35131542]),\n array([5.3734969]),\n array([5.39567838]),\n array([5.41785986]),\n array([5.44004134]),\n array([5.46222282]),\n array([5.4844043]),\n array([5.50658578]),\n array([5.52876726]),\n array([5.55094874]),\n array([5.57313022]),\n array([5.5953117]),\n array([5.61749318]),\n array([5.63967466]),\n array([5.66185614]),\n array([5.68403762]),\n array([5.7062191]),\n array([5.72840058]),\n array([5.75058206]),\n array([5.77276354]),\n array([5.79494502]),\n array([5.8171265]),\n array([5.83930798]),\n array([5.86148946]),\n array([5.88367094]),\n array([5.90585242]),\n array([5.9280339]),\n array([5.95021538]),\n array([5.97239686]),\n array([5.99457834]),\n array([6.01675982]),\n array([6.0389413]),\n array([6.06112278]),\n array([6.08330426]),\n array([6.10548574]),\n array([6.12766722]),\n array([6.1498487]),\n array([6.17203018]),\n array([6.19421166]),\n array([6.21639314]),\n array([6.23857462]),\n array([6.2607561]),\n array([6.28293758]),\n array([6.30511906]),\n array([6.32730054]),\n array([6.34948202]),\n array([6.3716635]),\n array([6.39384498]),\n array([6.41602646]),\n array([6.43820794]),\n array([6.46038942]),\n array([6.4825709]),\n array([6.50475238]),\n array([6.52693386]),\n array([6.54911534]),\n array([6.57129682]),\n array([6.5934783]),\n array([6.61565978]),\n array([6.63784126]),\n array([6.66002274]),\n array([6.68220422]),\n array([6.7043857]),\n array([6.72656718]),\n array([6.74874866]),\n array([6.77093014]),\n array([6.79311162]),\n array([6.8152931]),\n array([6.83747458]),\n array([6.85965606]),\n array([6.88183754]),\n array([6.90401902]),\n array([6.9262005]),\n array([6.94838198]),\n array([6.97056346]),\n array([6.99274494]),\n array([7.01492642]),\n array([7.0371079]),\n array([7.05928938]),\n array([7.08147086]),\n array([7.10365234]),\n array([7.12583382]),\n array([7.1480153]),\n array([7.17019678]),\n array([7.19237826]),\n array([7.21455974]),\n array([7.23674122]),\n array([7.2589227]),\n array([7.28110418]),\n array([7.30328566]),\n array([7.32546714]),\n array([7.34764862]),\n array([7.3698301]),\n array([7.39201158]),\n array([7.41419306]),\n array([7.43637454]),\n array([7.45855602]),\n array([7.4807375]),\n array([7.50291898]),\n array([7.52510046]),\n array([7.54728194]),\n array([7.56946342]),\n array([7.5916449]),\n array([7.61382638]),\n array([7.63600786]),\n array([7.65818934]),\n array([7.68037082]),\n array([7.7025523]),\n array([7.72473378]),\n array([7.74691526]),\n array([7.76909674]),\n array([7.79127822]),\n array([7.8134597])]"
     },
     "execution_count": 56,
     "metadata": {},
     "output_type": "execute_result"
    }
   ],
   "source": [
    "a"
   ],
   "metadata": {
    "collapsed": false,
    "pycharm": {
     "name": "#%%\n"
    }
   }
  },
  {
   "cell_type": "code",
   "execution_count": null,
   "outputs": [],
   "source": [
    "\n"
   ],
   "metadata": {
    "collapsed": false,
    "pycharm": {
     "name": "#%%\n"
    }
   }
  }
 ],
 "metadata": {
  "kernelspec": {
   "name": "deeplearning",
   "language": "python",
   "display_name": "DeepLearning"
  },
  "language_info": {
   "codemirror_mode": {
    "name": "ipython",
    "version": 2
   },
   "file_extension": ".py",
   "mimetype": "text/x-python",
   "name": "python",
   "nbconvert_exporter": "python",
   "pygments_lexer": "ipython2",
   "version": "2.7.6"
  }
 },
 "nbformat": 4,
 "nbformat_minor": 0
}